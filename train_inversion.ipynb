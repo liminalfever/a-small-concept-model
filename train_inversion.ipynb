{
 "cells": [
  {
   "cell_type": "markdown",
   "id": "cf66ca31",
   "metadata": {},
   "source": [
    "# PreNet Training for Embedding Inversion\n",
    "Here, we train our `PreNet` model for embedding to text inversion. We will use a sample of the `bookcorpus` dataset to train it."
   ]
  },
  {
   "cell_type": "code",
   "execution_count": 1,
   "id": "4a25f04f",
   "metadata": {},
   "outputs": [
    {
     "name": "stderr",
     "output_type": "stream",
     "text": [
      "/anaconda/lib/python3.12/site-packages/tqdm/auto.py:21: TqdmWarning: IProgress not found. Please update jupyter and ipywidgets. See https://ipywidgets.readthedocs.io/en/stable/user_install.html\n",
      "  from .autonotebook import tqdm as notebook_tqdm\n"
     ]
    }
   ],
   "source": [
    "import torch\n",
    "from modules.inverter import PreNet, Inverter, get_encoder, get_gpt2_decoder\n",
    "from modules.data import get_bookcorpus_for_inversion\n",
    "from modules.train import train_inversion_model\n",
    "\n",
    "device = torch.device(\"cuda\" if torch.cuda.is_available() else \"cpu\")"
   ]
  },
  {
   "cell_type": "markdown",
   "id": "355da252",
   "metadata": {},
   "source": [
    "## Configs\n",
    "We define the model and training hyperparameters."
   ]
  },
  {
   "cell_type": "code",
   "execution_count": 2,
   "id": "0370e870",
   "metadata": {},
   "outputs": [],
   "source": [
    "models_config = {\n",
    "    \"encoder_id\": \"paraphrase-multilingual-MiniLM-L12-v2\",\n",
    "}\n",
    "\n",
    "prenet_configs = {\n",
    "    \"input_dim\": 384,\n",
    "    \"output_dim\": 768,\n",
    "    \"rank\": 128,\n",
    "    \"prefix_len\": 20,\n",
    "}\n",
    "\n",
    "train_configs = {\n",
    "    \"load_weights\": \"saved_models/prenet_prefix_tuning_bookcorpus_multilingual.pth\",\n",
    "    \"save_weights\": \"saved_models/prenet_prefix_tuning_bookcorpus_multilingual.pth\",\n",
    "    \"lr\": 1e-3,\n",
    "    \"max_target_len\": 64,\n",
    "    \"embed_batch_size\": 64,\n",
    "    \"train_batch_size\": 64,\n",
    "    \"sample_data\": 0.5,\n",
    "    \"num_epochs\": 1,\n",
    "}"
   ]
  },
  {
   "cell_type": "markdown",
   "id": "9ee02fbd",
   "metadata": {},
   "source": [
    "---"
   ]
  },
  {
   "cell_type": "markdown",
   "id": "05a2d3b6",
   "metadata": {},
   "source": [
    "## Models\n",
    "We initialize and load the encoder, PreNet, and decoder mdoels."
   ]
  },
  {
   "cell_type": "code",
   "execution_count": 3,
   "id": "58235cd5",
   "metadata": {},
   "outputs": [
    {
     "name": "stderr",
     "output_type": "stream",
     "text": [
      "The new embeddings will be initialized from a multivariate normal distribution that has old embeddings' mean and covariance. As described in this article: https://nlp.stanford.edu/~johnhew/vocab-expansion.html. To disable this, use `mean_resizing=False`\n"
     ]
    }
   ],
   "source": [
    "encoder = get_encoder(models_config[\"encoder_id\"])\n",
    "decoder, tokenizer = get_gpt2_decoder()\n",
    "\n",
    "prenet = PreNet(**prenet_configs).to(device)\n",
    "\n",
    "if train_configs[\"load_weights\"]:\n",
    "    prenet.load_state_dict(\n",
    "        torch.load(train_configs[\"load_weights\"], map_location=device)\n",
    "    )"
   ]
  },
  {
   "cell_type": "markdown",
   "id": "f912c57a",
   "metadata": {},
   "source": [
    "## Dataset\n",
    "We load the dataset using the `get_bookcorpus_for_inversion` function."
   ]
  },
  {
   "cell_type": "code",
   "execution_count": 4,
   "id": "637d1300",
   "metadata": {},
   "outputs": [
    {
     "name": "stderr",
     "output_type": "stream",
     "text": [
      "Batches: 100%|████████████████████████████████████████████████████████████████████████████████████████████████████████████████████████████████████████████████████████████████████████████████████████████████████████████████████████████████████████████████████████████████████████████████████████████████████████████████████████████████████████████████████████████████████████████████████████████████████████████████████████████████████████████████████████████████████████████████████████████████████████████████████████████████████████████████████████████████████████████████████████████████████████████████████████████████████████████████████████████████████████████████████████████████████████████████████████████████████████████████████████████████████████████████████████████████████████████████████████████████████████████████████████████████████████████████████████████████████████████████████████████████████████████████████████████████████████████████████| 7032/7032 [01:06<00:00, 105.52it/s]\n",
      "Batches: 100%|██████████████████████████████████████████████████████████████████████████████████████████████████████████████████████████████████████████████████████████████████████████████████████████████████████████████████████████████████████████████████████████████████████████████████████████████████████████████████████████████████████████████████████████████████████████████████████████████████████████████████████████████████████████████████████████████████████████████████████████████████████████████████████████████████████████████████████████████████████████████████████████████████████████████████████████████████████████████████████████████████████████████████████████████████████████████████████████████████████████████████████████████████████████████████████████████████████████████████████████████████████████████████████████████████████████████████████████████████████████████████████████████████████████████████████████████████████████████████████| 782/782 [00:07<00:00, 107.72it/s]\n"
     ]
    }
   ],
   "source": [
    "train_loader, val_loader = get_bookcorpus_for_inversion(\n",
    "    encoder,\n",
    "    tokenizer,\n",
    "    train_configs[\"max_target_len\"],\n",
    "    train_configs[\"train_batch_size\"],\n",
    "    train_configs[\"embed_batch_size\"],\n",
    "    train_configs[\"sample_data\"],\n",
    ")"
   ]
  },
  {
   "cell_type": "markdown",
   "id": "29b339e7",
   "metadata": {},
   "source": [
    "## Training\n",
    "Finally, we can train the model using the `train_inversion_model` function."
   ]
  },
  {
   "cell_type": "code",
   "execution_count": 20,
   "id": "36a1e3ee",
   "metadata": {},
   "outputs": [
    {
     "name": "stderr",
     "output_type": "stream",
     "text": [
      "Epoch 1 [Train]: 100%|█████████████████████████████████████████████████████████████████████████████████████████████████████████████████████████████████████████████████████████████████████████████████████████████████████████████████████████████████████████████████████████████████████████████████████████████████████████████████████████████████████████████████████████████████████████████████████████████████████████████████████████████████████████████████████████████████████████████████████████████████████████████████████████████████████████████████████████████████████████████████████████████████████████████████████████████████████████████████████████████████████████████████████████████████████████████████████████████████████████████████████████████████████████████████████████████████████████████████████████████████████████████████████████████████████████████████████████████████████████████████████████████████████████████████████████████████████████████| 7032/7032 [23:53<00:00,  4.91it/s]\n",
      "Epoch 1 [Valid]: 100%|███████████████████████████████████████████████████████████████████████████████████████████████████████████████████████████████████████████████████████████████████████████████████████████████████████████████████████████████████████████████████████████████████████████████████████████████████████████████████████████████████████████████████████████████████████████████████████████████████████████████████████████████████████████████████████████████████████████████████████████████████████████████████████████████████████████████████████████████████████████████████████████████████████████████████████████████████████████████████████████████████████████████████████████████████████████████████████████████████████████████████████████████████████████████████████████████████████████████████████████████████████████████████████████████████████████████████████████████████████████████████████████████████████████████████████████████████████████████| 782/782 [01:13<00:00, 10.69it/s]"
     ]
    },
    {
     "name": "stdout",
     "output_type": "stream",
     "text": [
      "Epoch 1/1 — Train Loss: 2.4215   Val Loss: 2.1766\n"
     ]
    },
    {
     "name": "stderr",
     "output_type": "stream",
     "text": [
      "\n"
     ]
    }
   ],
   "source": [
    "train_inversion_model(\n",
    "    prenet,\n",
    "    decoder,\n",
    "    tokenizer,\n",
    "    train_loader,\n",
    "    val_loader,\n",
    "    train_configs[\"lr\"],\n",
    "    train_configs[\"num_epochs\"],\n",
    ")"
   ]
  },
  {
   "cell_type": "markdown",
   "id": "e1fc9b94",
   "metadata": {},
   "source": [
    "Save the updated weights of the model."
   ]
  },
  {
   "cell_type": "code",
   "execution_count": 21,
   "id": "d29f263c",
   "metadata": {},
   "outputs": [],
   "source": [
    "if train_configs[\"save_weights\"]:\n",
    "    torch.save(prenet.state_dict(), train_configs[\"save_weights\"])"
   ]
  },
  {
   "cell_type": "markdown",
   "id": "3b0f8aa3",
   "metadata": {},
   "source": [
    "## Inference\n",
    "Test the model at inference time using the `Inverter` class."
   ]
  },
  {
   "cell_type": "code",
   "execution_count": 11,
   "id": "99fd3c9b",
   "metadata": {},
   "outputs": [
    {
     "name": "stdout",
     "output_type": "stream",
     "text": [
      " i am the tween . '\n",
      "\n",
      "I am the tween . ''\n",
      "\n",
      "I am the tween . ''\n",
      "\n",
      "I am the\n"
     ]
    }
   ],
   "source": [
    "inverter = Inverter(prenet, decoder, tokenizer)\n",
    "\n",
    "sample_text = \"I am from the 90s.\"\n",
    "embedding = encoder.encode(sample_text, convert_to_tensor=True)\n",
    "\n",
    "print(inverter.invert(embedding, max_len=30, temperature=0.0))"
   ]
  }
 ],
 "metadata": {
  "kernelspec": {
   "display_name": "base",
   "language": "python",
   "name": "python3"
  },
  "language_info": {
   "codemirror_mode": {
    "name": "ipython",
    "version": 3
   },
   "file_extension": ".py",
   "mimetype": "text/x-python",
   "name": "python",
   "nbconvert_exporter": "python",
   "pygments_lexer": "ipython3",
   "version": "3.12.2"
  }
 },
 "nbformat": 4,
 "nbformat_minor": 5
}
