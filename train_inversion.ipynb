{
 "cells": [
  {
   "cell_type": "markdown",
   "id": "cf66ca31",
   "metadata": {},
   "source": [
    "# PreNet Training for Embedding Inversion\n",
    "Here, we train our `PreNet` model for embedding to text inversion. We will use a sample of the `bookcorpus` dataset to train it."
   ]
  },
  {
   "cell_type": "code",
   "execution_count": null,
   "id": "4a25f04f",
   "metadata": {},
   "outputs": [],
   "source": [
    "import torch\n",
    "from small_concept_model.inverter import PreNet, get_encoder, get_gpt2_decoder, Inverter\n",
    "from small_concept_model.data import get_bookcorpus_inverter\n",
    "from small_concept_model.train import train_inverter\n",
    "\n",
    "device = torch.device(\"cuda\" if torch.cuda.is_available() else \"cpu\")"
   ]
  },
  {
   "cell_type": "markdown",
   "id": "355da252",
   "metadata": {},
   "source": [
    "## Configs\n",
    "We define the model and training hyperparameters."
   ]
  },
  {
   "cell_type": "code",
   "execution_count": null,
   "id": "0370e870",
   "metadata": {},
   "outputs": [],
   "source": [
    "models_config = {\n",
    "    \"encoder_id\": \"paraphrase-multilingual-MiniLM-L12-v2\",\n",
    "}\n",
    "\n",
    "prenet_configs = {\n",
    "    \"input_dim\": 384,\n",
    "    \"output_dim\": 768,\n",
    "    \"rank\": 128,\n",
    "    \"prefix_len\": 20,\n",
    "}\n",
    "\n",
    "data_configs = {\n",
    "    \"max_target_len\": 64,\n",
    "    \"embed_batch_size\": 256,\n",
    "    \"sample\": 0.01,\n",
    "    \"clean\": True\n",
    "}\n",
    "\n",
    "train_configs = {\n",
    "    \"lr\": 1e-4,\n",
    "    \"weight_decay\": 0,\n",
    "    \"batch_size\": 32,\n",
    "    \"num_epochs\": 5\n",
    "}\n",
    "\n",
    "load_weights: str = \"saved_models/prenet/prenet_100k_good.pth\"\n",
    "save_weights: str = None"
   ]
  },
  {
   "cell_type": "markdown",
   "id": "9ee02fbd",
   "metadata": {},
   "source": [
    "---"
   ]
  },
  {
   "cell_type": "markdown",
   "id": "05a2d3b6",
   "metadata": {},
   "source": [
    "## Models\n",
    "We initialize and load the encoder, PreNet, and decoder mdoels."
   ]
  },
  {
   "cell_type": "code",
   "execution_count": 19,
   "id": "58235cd5",
   "metadata": {},
   "outputs": [],
   "source": [
    "encoder = get_encoder(models_config[\"encoder_id\"])\n",
    "decoder, tokenizer = get_gpt2_decoder()\n",
    "\n",
    "prenet = PreNet(**prenet_configs).to(device)\n",
    "if load_weights:\n",
    "    prenet.load_state_dict(torch.load(load_weights, map_location=device))"
   ]
  },
  {
   "cell_type": "markdown",
   "id": "c28c0946",
   "metadata": {},
   "source": [
    "## Data\n",
    "Automatically load and preprocess the data for training."
   ]
  },
  {
   "cell_type": "code",
   "execution_count": null,
   "id": "d20d3af3",
   "metadata": {},
   "outputs": [],
   "source": [
    "data = get_bookcorpus_inverter(encoder, tokenizer, **data_configs)"
   ]
  },
  {
   "cell_type": "markdown",
   "id": "59157c1d",
   "metadata": {},
   "source": [
    "## Training\n",
    "Finally, we can train the model using the `train_inverter` function."
   ]
  },
  {
   "cell_type": "code",
   "execution_count": null,
   "id": "bb541bf2",
   "metadata": {},
   "outputs": [],
   "source": [
    "train_inverter(prenet, decoder, tokenizer, data, **train_configs)\n",
    "\n",
    "if save_weights:\n",
    "    torch.save(prenet.state_dict(), save_weights)"
   ]
  },
  {
   "cell_type": "markdown",
   "id": "1da13175",
   "metadata": {},
   "source": [
    "---"
   ]
  },
  {
   "cell_type": "markdown",
   "id": "f1bedfb7",
   "metadata": {},
   "source": [
    "## Inference\n",
    "We can empirically test how good the model is at inference time for embedding inversion. First, we wrap the prenet, decoder, and tokenizer into a unique `Inverter` class, which contains handy methods."
   ]
  },
  {
   "cell_type": "code",
   "execution_count": 21,
   "id": "b0c8756e",
   "metadata": {},
   "outputs": [],
   "source": [
    "inverter = Inverter(prenet, decoder, tokenizer)"
   ]
  },
  {
   "cell_type": "markdown",
   "id": "731869b7",
   "metadata": {},
   "source": [
    "Now, we can write a sample text, encoding it into an embedding vector and inverting the embedding."
   ]
  },
  {
   "cell_type": "code",
   "execution_count": 63,
   "id": "7f9a987e",
   "metadata": {},
   "outputs": [
    {
     "data": {
      "text/plain": [
       "' I dont think it would ever happen.'"
      ]
     },
     "execution_count": 63,
     "metadata": {},
     "output_type": "execute_result"
    }
   ],
   "source": [
    "sample_text = \"I never thought wthis would be possible.\"\n",
    "\n",
    "vec = encoder.encode(sample_text, convert_to_tensor=True)\n",
    "inverter.invert(\n",
    "    vec, max_len=50, temperature=0.6, repetition_penalty=1.1\n",
    ")"
   ]
  }
 ],
 "metadata": {
  "kernelspec": {
   "display_name": "base",
   "language": "python",
   "name": "python3"
  },
  "language_info": {
   "codemirror_mode": {
    "name": "ipython",
    "version": 3
   },
   "file_extension": ".py",
   "mimetype": "text/x-python",
   "name": "python",
   "nbconvert_exporter": "python",
   "pygments_lexer": "ipython3",
   "version": "3.12.2"
  }
 },
 "nbformat": 4,
 "nbformat_minor": 5
}
