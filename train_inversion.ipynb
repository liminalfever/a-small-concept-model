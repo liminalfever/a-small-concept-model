{
 "cells": [
  {
   "cell_type": "markdown",
   "id": "ab466b71",
   "metadata": {},
   "source": [
    "# PreNet Inversion Model Traning\n",
    "This notebook trains a lightweight `PreNet` network to invert embeddings from any pre-trained sentence-level emebdding model using GPT-2 as a token-level decoder."
   ]
  },
  {
   "cell_type": "code",
   "execution_count": null,
   "id": "0fe6d1f3",
   "metadata": {},
   "outputs": [],
   "source": [
    "import torch\n",
    "import torch.nn as nn\n",
    "from torch.utils.data import DataLoader\n",
    "from tqdm import tqdm\n",
    "from small_concept_model.inverter import PreNet, Inverter, get_encoder, get_gpt2_decoder\n",
    "from small_concept_model.data import InverterDataset, get_bookcorpus_inverter"
   ]
  },
  {
   "cell_type": "markdown",
   "id": "07201149",
   "metadata": {},
   "source": [
    "## Configs\n",
    "Here, we can specify some configuration parameters, such as the encoder model we want to use and the size of the `PreNet`."
   ]
  },
  {
   "cell_type": "code",
   "execution_count": null,
   "id": "559cde5d",
   "metadata": {},
   "outputs": [],
   "source": [
    "ENCODER_ID  : str = \"paraphrase-multilingual-MiniLM-L12-v2\"\n",
    "\n",
    "SAMPLE_RATIO: float = 1.0\n",
    "EMBED_BS    : int   = 256\n",
    "\n",
    "INPUT_DIM   : int   = 384\n",
    "OUTPUT_DIM  : int   = 768\n",
    "RANK        : int   = 128\n",
    "PREFIX_LEN  : int   = 20\n",
    "LOAD_WEIGHTS: str   = None\n",
    "\n",
    "NUM_EPOCHS  : int   = 1\n",
    "TRAIN_BS    : int   = 64\n",
    "LEARN_RATE  : float = 1e-3\n",
    "WEIGHT_DECAY: float = 1e-5\n",
    "\n",
    "device = torch.device(\"cuda\" if torch.cuda.is_available() else \"cpu\")"
   ]
  },
  {
   "cell_type": "markdown",
   "id": "65c94413",
   "metadata": {},
   "source": [
    "---"
   ]
  },
  {
   "cell_type": "markdown",
   "id": "b40eb1b0",
   "metadata": {},
   "source": [
    "## Dataset\n",
    "To create the training dataset, we first need to get an encoder and a decoder."
   ]
  },
  {
   "cell_type": "code",
   "execution_count": null,
   "id": "d0fe7687",
   "metadata": {},
   "outputs": [],
   "source": [
    "encoder = get_encoder(ENCODER_ID, trainable=False)\n",
    "decoder, tokenizer = get_gpt2_decoder(trainable=False)"
   ]
  },
  {
   "cell_type": "markdown",
   "id": "0b843480",
   "metadata": {},
   "source": [
    "Now we can load and pre-process the dataset using the `get_bookcorpus_inverter` function and wrap it into the `InverterDataset` class."
   ]
  },
  {
   "cell_type": "code",
   "execution_count": null,
   "id": "c8b4e59a",
   "metadata": {},
   "outputs": [],
   "source": [
    "embeddings, input_ids = get_bookcorpus_inverter(\n",
    "    encoder=encoder,\n",
    "    tokenizer=tokenizer,\n",
    "    embed_batch_size=EMBED_BS,\n",
    "    sample=SAMPLE_RATIO,\n",
    "    clean=True\n",
    ")\n",
    "\n",
    "dataset = InverterDataset(embeddings, input_ids, tokenizer.eos_token_id)\n",
    "dataloader = DataLoader(dataset, batch_size=TRAIN_BS, shuffle=True)"
   ]
  },
  {
   "cell_type": "markdown",
   "id": "0dd6d8db",
   "metadata": {},
   "source": [
    "## Inverter Model Training\n",
    "First, we initialize our _PreNet_ using the `PreNet` class and define the loss function and the optimizer."
   ]
  },
  {
   "cell_type": "code",
   "execution_count": null,
   "id": "18921ba4",
   "metadata": {},
   "outputs": [],
   "source": [
    "prenet = PreNet(\n",
    "    input_dim=INPUT_DIM,\n",
    "    output_dim=OUTPUT_DIM,\n",
    "    rank=RANK,\n",
    "    prefix_len=PREFIX_LEN\n",
    ").to(device)\n",
    "\n",
    "if LOAD_WEIGHTS:\n",
    "    prenet.load_state_dict(torch.load(LOAD_WEIGHTS, map_location=device))\n",
    "\n",
    "optimizer = torch.optim.Adam(prenet.parameters(), lr=LEARN_RATE, weight_decay=WEIGHT_DECAY)\n",
    "criterion = nn.CrossEntropyLoss(ignore_index=tokenizer.pad_token_id)"
   ]
  },
  {
   "cell_type": "markdown",
   "id": "f050915f",
   "metadata": {},
   "source": [
    "Finally, we perform the training loop."
   ]
  },
  {
   "cell_type": "code",
   "execution_count": null,
   "id": "75cb5b0d",
   "metadata": {},
   "outputs": [],
   "source": [
    "for p in decoder.parameters():\n",
    "    p.requires_grad = False\n",
    "\n",
    "for epoch in range(NUM_EPOCHS):\n",
    "        prenet.train()\n",
    "        decoder.eval()\n",
    "        total_train_loss = 0.0\n",
    "\n",
    "        for idx, (embeddings, input_ids) in tqdm(\n",
    "            enumerate(dataloader), desc=f\"Epoch {epoch+1} [Train]\", total=len(dataloader)\n",
    "        ):\n",
    "            embeddings = embeddings.to(device)\n",
    "            input_ids = input_ids.to(device)\n",
    "\n",
    "            prefix_embeds = prenet(embeddings)\n",
    "            token_embeds = decoder.transformer.wte(input_ids)\n",
    "            inputs_embeds = torch.cat([prefix_embeds, token_embeds[:, :-1, :]], dim=1)\n",
    "\n",
    "            outputs = decoder(inputs_embeds=inputs_embeds)\n",
    "            logits = outputs.logits[:, prenet.prefix_len :, :]  # shape [B, L, V]\n",
    "            labels = input_ids[:, 1:]  # shifted targets\n",
    "\n",
    "            B, L, V = logits.size()\n",
    "            loss = criterion(logits.reshape(-1, V), labels.reshape(-1))\n",
    "\n",
    "            optimizer.zero_grad()\n",
    "            loss.backward()\n",
    "            optimizer.step()\n",
    "\n",
    "            total_train_loss += loss.item()\n",
    "\n",
    "            if idx % 100 == 0:\n",
    "                print(f\"Epoch [{epoch + 1}/{NUM_EPOCHS}] - Batch [{idx + 1}/{len(dataloader)}] - Loss: {loss.item():.6f}\")\n",
    "                \n",
    "        avg_epoch_loss = total_train_loss / len(dataloader)\n",
    "\n",
    "\n",
    "        print(f\"*** Epoch [{epoch+1}/{NUM_EPOCHS}] - Loss: {avg_epoch_loss:.6f} ***\")"
   ]
  },
  {
   "cell_type": "markdown",
   "id": "33623668",
   "metadata": {},
   "source": [
    "Save the model's weights' checkpoint."
   ]
  },
  {
   "cell_type": "code",
   "execution_count": null,
   "id": "136a2eb2",
   "metadata": {},
   "outputs": [],
   "source": [
    "SAVE_WEIGHTS: str = \"saved_models/test_prenet_checkpoint.pth\"\n",
    "\n",
    "if SAVE_WEIGHTS:\n",
    "    torch.save(prenet.state_dict(), SAVE_WEIGHTS)"
   ]
  }
 ],
 "metadata": {
  "kernelspec": {
   "display_name": "base",
   "language": "python",
   "name": "python3"
  },
  "language_info": {
   "codemirror_mode": {
    "name": "ipython",
    "version": 3
   },
   "file_extension": ".py",
   "mimetype": "text/x-python",
   "name": "python",
   "nbconvert_exporter": "python",
   "pygments_lexer": "ipython3",
   "version": "3.12.2"
  }
 },
 "nbformat": 4,
 "nbformat_minor": 5
}
