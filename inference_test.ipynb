{
 "cells": [
  {
   "cell_type": "markdown",
   "id": "05524f7c",
   "metadata": {},
   "source": [
    "# Inference Test\n",
    "Here, we can test both the inversion and SCM models at inference time. We will load the pre-trained weights from the `saved_models` folder."
   ]
  },
  {
   "cell_type": "code",
   "execution_count": null,
   "id": "ff4fa24c",
   "metadata": {},
   "outputs": [],
   "source": [
    "from sentence_transformers import SentenceTransformer\n",
    "from small_concept_model.auto import build_inverter, build_pipeline"
   ]
  },
  {
   "cell_type": "markdown",
   "id": "e2425df9",
   "metadata": {},
   "source": [
    "First, we build the pretrained encoder, inverter, and pipeline (encoder + SCM + inverter)."
   ]
  },
  {
   "cell_type": "code",
   "execution_count": null,
   "id": "e4006fdd",
   "metadata": {},
   "outputs": [],
   "source": [
    "encoder = SentenceTransformer(\"paraphrase-multilingual-MiniLM-L12-v2\")\n",
    "inverter = build_inverter(\"inverter_multilingual\")\n",
    "pipe = build_pipeline(\"scm_multilingual\", \"inverter_multilingual\")"
   ]
  },
  {
   "cell_type": "markdown",
   "id": "cc1e8a6a",
   "metadata": {},
   "source": [
    "---"
   ]
  },
  {
   "cell_type": "markdown",
   "id": "16e140fb",
   "metadata": {},
   "source": [
    "### Inversion Test"
   ]
  },
  {
   "cell_type": "code",
   "execution_count": null,
   "id": "ce149aa4",
   "metadata": {},
   "outputs": [],
   "source": [
    "src_text = \"He slowly walked toward the door.\"\n",
    "embedding = encoder.encode(src_text, convert_to_tensor=True)\n",
    "\n",
    "inverter.invert(embedding, max_len=20, temperature=0.0, repetition_penalty=0.0)"
   ]
  },
  {
   "cell_type": "markdown",
   "id": "1516f9bf",
   "metadata": {},
   "source": [
    "### Full Pipeline Test"
   ]
  },
  {
   "cell_type": "code",
   "execution_count": null,
   "id": "073fb614",
   "metadata": {},
   "outputs": [],
   "source": [
    "src_sequence = [\n",
    "    \"He slowly walked toward the door.\",\n",
    "    \"All he could think about was the dream he had last night.\"\n",
    "]\n",
    "\n",
    "pipe.generate(\n",
    "    src_sequence,\n",
    "    max_future_steps=5,\n",
    "    max_len_sentence=30,\n",
    "    temperature=0.0,\n",
    "    repetition_penalty=1.1,\n",
    "    similarity_threshold=0.9\n",
    ")"
   ]
  }
 ],
 "metadata": {
  "kernelspec": {
   "display_name": "base",
   "language": "python",
   "name": "python3"
  },
  "language_info": {
   "codemirror_mode": {
    "name": "ipython",
    "version": 3
   },
   "file_extension": ".py",
   "mimetype": "text/x-python",
   "name": "python",
   "nbconvert_exporter": "python",
   "pygments_lexer": "ipython3",
   "version": "3.12.2"
  }
 },
 "nbformat": 4,
 "nbformat_minor": 5
}
