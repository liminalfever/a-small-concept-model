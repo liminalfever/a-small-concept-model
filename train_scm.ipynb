{
 "cells": [
  {
   "cell_type": "markdown",
   "id": "1a29cead",
   "metadata": {},
   "source": [
    "# Small Concept Model (SCM) Training\n",
    "Here, we train our `SmallConceptModel` for next-concept prediction."
   ]
  },
  {
   "cell_type": "code",
   "execution_count": 1,
   "id": "e75e732b",
   "metadata": {},
   "outputs": [],
   "source": [
    "from small_concept_model.model import SmallConceptModel"
   ]
  }
 ],
 "metadata": {
  "kernelspec": {
   "display_name": "base",
   "language": "python",
   "name": "python3"
  },
  "language_info": {
   "codemirror_mode": {
    "name": "ipython",
    "version": 3
   },
   "file_extension": ".py",
   "mimetype": "text/x-python",
   "name": "python",
   "nbconvert_exporter": "python",
   "pygments_lexer": "ipython3",
   "version": "3.12.2"
  }
 },
 "nbformat": 4,
 "nbformat_minor": 5
}
