{
 "cells": [
  {
   "cell_type": "markdown",
   "id": "b8e09560",
   "metadata": {},
   "source": [
    "# SCM Training\n",
    "Here, we train a small concept model (SCM) for next-concept prediction. We will use the pre-trained PreNet to invert the embeddings into sentences."
   ]
  },
  {
   "cell_type": "code",
   "execution_count": null,
   "id": "89bbe47f",
   "metadata": {},
   "outputs": [],
   "source": [
    "import torch\n",
    "from modules.inverter import build_inverter, get_encoder\n",
    "from modules.data import SCMTrainingDataset, get_bookcorpus_for_scm\n",
    "from modules.scm import SmallConceptModel, GenerativeSCM\n",
    "from modules.train import train_scm\n",
    "from torch.utils.data import DataLoader\n",
    "\n",
    "device = torch.device(\"cuda\" if torch.cuda.is_available() else \"cpu\")"
   ]
  },
  {
   "cell_type": "markdown",
   "id": "17d439b3",
   "metadata": {},
   "source": [
    "## Configs\n",
    "We define configs for model and training hyperparameters."
   ]
  },
  {
   "cell_type": "code",
   "execution_count": 58,
   "id": "d04e1e96",
   "metadata": {},
   "outputs": [],
   "source": [
    "models_config = {\n",
    "    \"encoder_id\": \"paraphrase-multilingual-MiniLM-L12-v2\",\n",
    "}\n",
    "\n",
    "scm_configs = {\n",
    "    \"d_model\": 512,\n",
    "    \"embed_dim\": 384,\n",
    "    \"nhead\": 4,\n",
    "    \"num_layers\": 3,\n",
    "    \"dim_feedforward\": 4 * 512,\n",
    "    \"dropout\": 0.1,\n",
    "    \"max_seq_len\": 16,\n",
    "}\n",
    "\n",
    "train_configs = {\n",
    "    \"load_weights\": \"saved_models/scm_v01_multilingual.pth\",\n",
    "    \"save_weights\": \"saved_models/scm_v01_multilingual.pth\",\n",
    "    \"lr\": 1e-3,\n",
    "    \"weight_decay\": 1e-2,\n",
    "    \"max_target_len\": 64,\n",
    "    \"embed_batch_size\": 128,\n",
    "    \"train_batch_size\": 32,\n",
    "    \"sample_data\": 0.03,\n",
    "    \"num_epochs\": 1,\n",
    "}\n",
    "\n",
    "data_configs = {\n",
    "    \"load_cached\": None,\n",
    "}"
   ]
  },
  {
   "cell_type": "markdown",
   "id": "b415798c",
   "metadata": {},
   "source": [
    "---"
   ]
  },
  {
   "cell_type": "markdown",
   "id": "c15ca783",
   "metadata": {},
   "source": [
    "## Models\n",
    "We initialize and load the encoder, inverter, and SCM models."
   ]
  },
  {
   "cell_type": "code",
   "execution_count": 59,
   "id": "0069958c",
   "metadata": {},
   "outputs": [],
   "source": [
    "encoder = get_encoder(models_config[\"encoder_id\"])\n",
    "inverter = build_inverter()\n",
    "scm = SmallConceptModel(**scm_configs).to(device)\n",
    "\n",
    "if train_configs[\"load_weights\"]:\n",
    "    scm.load_state_dict(torch.load(train_configs[\"load_weights\"], map_location=device))"
   ]
  },
  {
   "cell_type": "markdown",
   "id": "cf0056ce",
   "metadata": {},
   "source": [
    "## Dataset\n",
    "We load cached embeddings if available, otherwise we rebuild the dataloader via the `get_bookcorpus_for_scm` function."
   ]
  },
  {
   "cell_type": "code",
   "execution_count": null,
   "id": "f2c9236c",
   "metadata": {},
   "outputs": [],
   "source": [
    "if data_configs[\"load_cached\"]:\n",
    "    embeddings = torch.load(data_configs[\"load_cached\"])\n",
    "    dataset = SCMTrainingDataset(embeddings)\n",
    "    dataloader = DataLoader(\n",
    "        dataset,\n",
    "        batch_size=train_configs[\"train_batch_size\"],\n",
    "        shuffle=True,\n",
    "        drop_last=True\n",
    "    )\n",
    "else:\n",
    "    dataloader = get_bookcorpus_for_scm(\n",
    "        encoder,\n",
    "        embed_dim=scm_configs[\"embed_dim\"],\n",
    "        train_batch_size=train_configs[\"train_batch_size\"],\n",
    "        embed_batch_size=train_configs[\"embed_batch_size\"],\n",
    "    )"
   ]
  },
  {
   "cell_type": "markdown",
   "id": "2540b642",
   "metadata": {},
   "source": [
    "## Training\n",
    "Finally, we can train the model using the `train_sm` function."
   ]
  },
  {
   "cell_type": "code",
   "execution_count": null,
   "id": "b6ae9a3b",
   "metadata": {},
   "outputs": [],
   "source": [
    "train_scm(\n",
    "    scm,\n",
    "    dataloader,\n",
    "    scm_configs[\"max_seq_len\"],\n",
    "    train_configs[\"lr\"],\n",
    "    train_configs[\"weight_decay\"],\n",
    "    train_configs[\"num_epochs\"]\n",
    ")"
   ]
  },
  {
   "cell_type": "markdown",
   "id": "5474f5e5",
   "metadata": {},
   "source": [
    "Save the updated weights of the model."
   ]
  },
  {
   "cell_type": "code",
   "execution_count": null,
   "id": "7a4669de",
   "metadata": {},
   "outputs": [],
   "source": [
    "torch.save(scm.state_dict(), train_configs[\"save_weights\"])"
   ]
  },
  {
   "cell_type": "markdown",
   "id": "b2ec2df2",
   "metadata": {},
   "source": [
    "## Inference\n",
    "We can test the model at inference time using the `GenerativeSCM` class."
   ]
  },
  {
   "cell_type": "code",
   "execution_count": 60,
   "id": "2768dd31",
   "metadata": {},
   "outputs": [
    {
     "data": {
      "text/plain": [
       "[\" how are you ? '' how are you ? '' how are you ? '' how are you ? '' how are you ? '' how are you ? ''\",\n",
       " \" it is a neural network . ''\",\n",
       " \" the way that you describe it , i am sure that you will be able to relate to us . ''\",\n",
       " \" i mean , how can you explain how you got into this ? '' jean said . '' i mean , how can you explain how you got into\",\n",
       " \" the way that the computer programed , i mean , how could you not know that . '' , jason said . '' i mean , how could\",\n",
       " \" we are talking about a computer , and that is what i mean . '' im not sure how to describe it , but i know that it is a\",\n",
       " \" the way that the computer programed , i mean , how many people were in the room ? '' jean said . '' it is a good thing\"]"
      ]
     },
     "execution_count": 60,
     "metadata": {},
     "output_type": "execute_result"
    }
   ],
   "source": [
    "gen_scm = GenerativeSCM(scm, encoder, inverter)\n",
    "\n",
    "sentences = [\n",
    "    \"how are you?\",\n",
    "    \"it is about neural networks.\"\n",
    "]\n",
    "\n",
    "gen_scm.generate(sentences, sigma_noise=0.0)"
   ]
  }
 ],
 "metadata": {
  "kernelspec": {
   "display_name": "base",
   "language": "python",
   "name": "python3"
  },
  "language_info": {
   "codemirror_mode": {
    "name": "ipython",
    "version": 3
   },
   "file_extension": ".py",
   "mimetype": "text/x-python",
   "name": "python",
   "nbconvert_exporter": "python",
   "pygments_lexer": "ipython3",
   "version": "3.12.9"
  }
 },
 "nbformat": 4,
 "nbformat_minor": 5
}
