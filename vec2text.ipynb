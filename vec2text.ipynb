{
 "cells": [
  {
   "cell_type": "code",
   "execution_count": 1,
   "id": "282413ca",
   "metadata": {},
   "outputs": [
    {
     "name": "stderr",
     "output_type": "stream",
     "text": [
      "/anaconda/lib/python3.12/site-packages/tqdm/auto.py:21: TqdmWarning: IProgress not found. Please update jupyter and ipywidgets. See https://ipywidgets.readthedocs.io/en/stable/user_install.html\n",
      "  from .autonotebook import tqdm as notebook_tqdm\n"
     ]
    }
   ],
   "source": [
    "import torch\n",
    "from modules.prenet import PreNet\n",
    "from modules.encdec import get_encoder, get_gpt2_decoder\n",
    "\n",
    "device = torch.device(\"cuda\" if torch.cuda.is_available() else \"cpu\")"
   ]
  },
  {
   "cell_type": "code",
   "execution_count": 2,
   "id": "d9b37645",
   "metadata": {},
   "outputs": [
    {
     "name": "stderr",
     "output_type": "stream",
     "text": [
      "The new embeddings will be initialized from a multivariate normal distribution that has old embeddings' mean and covariance. As described in this article: https://nlp.stanford.edu/~johnhew/vocab-expansion.html. To disable this, use `mean_resizing=False`\n"
     ]
    }
   ],
   "source": [
    "prenet = PreNet(\n",
    "    input_dim=384,\n",
    "    output_dim=768,\n",
    "    bottleneck_dim=128,\n",
    "    prefix_len=20\n",
    ")\n",
    "prenet.load_state_dict(torch.load('saved_models/prenet_prefix_tuning.pth', map_location=device))\n",
    "prenet.to(device)\n",
    "\n",
    "encoder = get_encoder(\"all-MiniLM-L6-v2\")\n",
    "decoder, tokenizer = get_gpt2_decoder()"
   ]
  },
  {
   "cell_type": "code",
   "execution_count": 3,
   "id": "ba237c0f",
   "metadata": {},
   "outputs": [],
   "source": [
    "def vec_to_text(embedding, decoder, tokenizer, prenet, gen_len=50):\n",
    "    \"\"\"\n",
    "    Given input text, encode it, generate prefix via PreNet, and autoregressively decode output text.\n",
    "    \"\"\"\n",
    "    decoder.eval()\n",
    "    prenet.eval()\n",
    "    with torch.no_grad():\n",
    "        prefix = prenet(embedding.unsqueeze(0))  # (1, prefix_len, model_dim)\n",
    "\n",
    "        generated = prefix  # initial embeddings\n",
    "        generated_ids = []\n",
    "        for _ in range(gen_len):\n",
    "            outputs = decoder(inputs_embeds=generated)\n",
    "            next_logits = outputs.logits[:, -1, :]\n",
    "            next_id = torch.argmax(next_logits, dim=-1).unsqueeze(-1)  # greedy\n",
    "            generated_ids.append(next_id)\n",
    "            next_embed = decoder.transformer.wte(next_id)\n",
    "            generated = torch.cat([generated, next_embed], dim=1)\n",
    "\n",
    "    gen_ids = torch.cat(generated_ids, dim=1)\n",
    "    return tokenizer.decode(gen_ids[0].cpu().numpy(), skip_special_tokens=True)"
   ]
  },
  {
   "cell_type": "code",
   "execution_count": 20,
   "id": "99921029",
   "metadata": {},
   "outputs": [
    {
     "name": "stdout",
     "output_type": "stream",
     "text": [
      " Go grab groceries today .                                             \n"
     ]
    }
   ],
   "source": [
    "text = \"Today I'll do some groceries.\"\n",
    "embedding = encoder.encode(text, convert_to_tensor=True).to(device)\n",
    "\n",
    "generated_text = vec_to_text(\n",
    "    embedding, decoder, tokenizer, prenet, 50\n",
    ")\n",
    "\n",
    "print(generated_text)"
   ]
  },
  {
   "cell_type": "code",
   "execution_count": 10,
   "id": "d63ba5a1",
   "metadata": {},
   "outputs": [
    {
     "name": "stdout",
     "output_type": "stream",
     "text": [
      "y, what's your name ?                       \n"
     ]
    }
   ],
   "source": [
    "text = \"Hello, what's your name?\"\n",
    "embedding = encoder.encode(text, convert_to_tensor=True).to(device)\n",
    "\n",
    "generated_text = vec_to_text(\n",
    "    embedding, decoder, tokenizer, prenet, 30\n",
    ")\n",
    "\n",
    "print(generated_text)"
   ]
  },
  {
   "cell_type": "code",
   "execution_count": 6,
   "id": "866c43b9",
   "metadata": {},
   "outputs": [
    {
     "name": "stdout",
     "output_type": "stream",
     "text": [
      " exact day of sunshine today .                        \n"
     ]
    }
   ],
   "source": [
    "text = \"Today is a very sunny day indeed.\"\n",
    "embedding = encoder.encode(text, convert_to_tensor=True).to(device)\n",
    "\n",
    "generated_text = vec_to_text(\n",
    "    embedding, decoder, tokenizer, prenet, 30\n",
    ")\n",
    "\n",
    "print(generated_text)"
   ]
  },
  {
   "cell_type": "code",
   "execution_count": 32,
   "id": "90e2db6f",
   "metadata": {},
   "outputs": [
    {
     "name": "stdout",
     "output_type": "stream",
     "text": [
      "[[0.9564296]]\n"
     ]
    }
   ],
   "source": [
    "from sklearn.metrics.pairwise import cosine_similarity\n",
    "\n",
    "# Get sentence embeddings (assumes encoder is from sentence-transformers or similar)\n",
    "vec1 = encoder.encode(\"Let's get a pizza tonight.\", convert_to_numpy=True)\n",
    "vec2 = encoder.encode(\"Let's have a pizza tonight\", convert_to_numpy=True)\n",
    "\n",
    "# Compute cosine similarity\n",
    "similarity = cosine_similarity([vec1], [vec2])\n",
    "\n",
    "print(similarity)"
   ]
  },
  {
   "cell_type": "code",
   "execution_count": 1,
   "id": "c62e8758",
   "metadata": {},
   "outputs": [
    {
     "name": "stderr",
     "output_type": "stream",
     "text": [
      "/anaconda/lib/python3.12/site-packages/tqdm/auto.py:21: TqdmWarning: IProgress not found. Please update jupyter and ipywidgets. See https://ipywidgets.readthedocs.io/en/stable/user_install.html\n",
      "  from .autonotebook import tqdm as notebook_tqdm\n",
      "Generating train split: 100%|████████████████████████████████████████████████████████████████████████████████████████████████████████████████████████████████████████████████████████████████████████████████████████████████████████████████████████████████████████████████████████████████████████████████████████████████████████████████████████████████████████████████████████████████████████████████████████████████████████████████████████████████████████████████████████████████████████████████████████████████████████████████████████████████████████████████████████████████████████████████████████████████████████████████████████████████████████████████████████████████████████████████████████████████████████████████████████████████████████████████████████████████████████████████████████████████████████████████████████████████████████████████████████████████████████████████████████████████████████████████████████████████████████████████████| 1000000/1000000 [00:00<00:00, 2223374.06 examples/s]\n"
     ]
    }
   ],
   "source": [
    "import datasets\n",
    "\n",
    "data = datasets.load_dataset(\"francescoortame/bookcorpus-rand-1M\")"
   ]
  },
  {
   "cell_type": "code",
   "execution_count": 4,
   "id": "4d3be62d",
   "metadata": {},
   "outputs": [],
   "source": [
    "a = data['train'].train_test_split(0.1, seed=42)"
   ]
  }
 ],
 "metadata": {
  "kernelspec": {
   "display_name": "base",
   "language": "python",
   "name": "python3"
  },
  "language_info": {
   "codemirror_mode": {
    "name": "ipython",
    "version": 3
   },
   "file_extension": ".py",
   "mimetype": "text/x-python",
   "name": "python",
   "nbconvert_exporter": "python",
   "pygments_lexer": "ipython3",
   "version": "3.12.2"
  }
 },
 "nbformat": 4,
 "nbformat_minor": 5
}
