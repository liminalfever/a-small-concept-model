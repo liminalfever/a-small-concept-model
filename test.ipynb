{
 "cells": [
  {
   "cell_type": "code",
   "execution_count": 1,
   "id": "d170b1fb",
   "metadata": {},
   "outputs": [],
   "source": [
    "from small_concept_model.model import SmallConceptModel"
   ]
  },
  {
   "cell_type": "code",
   "execution_count": null,
   "id": "2c479776",
   "metadata": {},
   "outputs": [],
   "source": [
    "model = SmallConceptModel()"
   ]
  }
 ],
 "metadata": {
  "kernelspec": {
   "display_name": "base",
   "language": "python",
   "name": "python3"
  },
  "language_info": {
   "codemirror_mode": {
    "name": "ipython",
    "version": 3
   },
   "file_extension": ".py",
   "mimetype": "text/x-python",
   "name": "python",
   "nbconvert_exporter": "python",
   "pygments_lexer": "ipython3",
   "version": "3.12.2"
  }
 },
 "nbformat": 4,
 "nbformat_minor": 5
}
