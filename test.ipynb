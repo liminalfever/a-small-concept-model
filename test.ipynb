{
 "cells": [
  {
   "cell_type": "code",
   "execution_count": null,
   "id": "d170b1fb",
   "metadata": {},
   "outputs": [],
   "source": [
    "import torch\n",
    "from sentence_transformers import SentenceTransformer\n",
    "from small_concept_model.model import SmallConceptModel\n",
    "from small_concept_model.inverter import PreNet\n",
    "from small_concept_model.train import train_scm, train_inverter\n",
    "from small_concept_model.data import get_bookcorpus_scm, get_bookcorpus_inverter\n",
    "from small_concept_model.auto import build_scm, build_inverter"
   ]
  },
  {
   "cell_type": "markdown",
   "id": "cfb61635",
   "metadata": {},
   "source": [
    "---"
   ]
  },
  {
   "cell_type": "code",
   "execution_count": null,
   "id": "13fe98e3",
   "metadata": {},
   "outputs": [],
   "source": [
    "model = build_scm(\"small_multilingual\")"
   ]
  },
  {
   "cell_type": "code",
   "execution_count": 3,
   "id": "aeab3339",
   "metadata": {},
   "outputs": [],
   "source": [
    "inverter = build_inverter(\"paraphrase_multilingual\")\n",
    "encoder = SentenceTransformer(\"paraphrase-multilingual-MiniLM-L12-v2\", device=\"cuda\")"
   ]
  },
  {
   "cell_type": "code",
   "execution_count": 33,
   "id": "e0d77b17",
   "metadata": {},
   "outputs": [
    {
     "name": "stdout",
     "output_type": "stream",
     "text": [
      " being tired is exhausting . '' i am being too busy sobbing .\n"
     ]
    }
   ],
   "source": [
    "text = \"I am tired of stressing out\"\n",
    "vec = encoder.encode(text, convert_to_tensor=True)\n",
    "\n",
    "print(inverter.invert(vec, 30, 0.6))"
   ]
  },
  {
   "cell_type": "code",
   "execution_count": 10,
   "id": "b4deb7e3",
   "metadata": {},
   "outputs": [],
   "source": [
    "scm_configs = {\n",
    "    \"d_model\": 512,\n",
    "    \"d_embed\": 384,\n",
    "    \"d_ff\": 4 * 512,\n",
    "    \"n_heads\": 4,\n",
    "    \"n_layers\": 3,\n",
    "    \"dropout\": 0.0,\n",
    "    \"max_seq_len\": 128\n",
    "}\n",
    "\n",
    "train_configs = {\n",
    "    \"lr\": 1e-3,\n",
    "    \"weight_decay\": 1e-3,\n",
    "    \"batch_size\": 32,\n",
    "    \"num_epochs\": 1\n",
    "}"
   ]
  },
  {
   "cell_type": "code",
   "execution_count": 33,
   "id": "2c479776",
   "metadata": {},
   "outputs": [
    {
     "name": "stdout",
     "output_type": "stream",
     "text": [
      "torch.Size([8, 16, 384])\n"
     ]
    }
   ],
   "source": [
    "model = SmallConceptModel(**scm_configs)\n",
    "\n",
    "# test forward pass\n",
    "x = torch.rand([8, 16, scm_configs[\"d_embed\"]])\n",
    "\n",
    "y = model(x)\n",
    "print(y.shape)"
   ]
  },
  {
   "cell_type": "code",
   "execution_count": 4,
   "id": "babbecce",
   "metadata": {},
   "outputs": [
    {
     "name": "stderr",
     "output_type": "stream",
     "text": [
      "Batches: 100%|███████████████████████████████████████████████████████████████████████████████████████████████████████████████████████████████████████████████████████████████████████████████████████████████████████████████████████████████████████████████████████████████████████████████████████████████████████████████████████████████████████████████████████████████████████████████████████████████████████████████████████████████████████████████████████████████████████████████████████████████████████████████████████████████████████████████████████████████████████████████████████████████████████████████████████████████████████████████████████████████████████████████████████████████████████████████████████████████████████████████████████████████████████████████████████████████████████████████████████████████████████████████████████████████████████████████████████████████████████████████████████████████████████████████████████████████████████████████████| 50000/50000 [10:46<00:00, 77.31it/s]\n"
     ]
    }
   ],
   "source": [
    "encoder = SentenceTransformer(\"paraphrase-multilingual-MiniLM-L12-v2\", device=\"cuda\")\n",
    "dataset = get_bookcorpus_scm(encoder, 32)"
   ]
  },
  {
   "cell_type": "markdown",
   "id": "676e1207",
   "metadata": {},
   "source": [
    "Train the model."
   ]
  },
  {
   "cell_type": "code",
   "execution_count": 36,
   "id": "b18c4a2b",
   "metadata": {},
   "outputs": [],
   "source": [
    "from datasets import load_dataset\n",
    "\n",
    "data = load_dataset(\"francescoortame/bookcorpus-sorted-100k16x\", split=\"train\")"
   ]
  },
  {
   "cell_type": "code",
   "execution_count": 35,
   "id": "6815cb98",
   "metadata": {},
   "outputs": [
    {
     "name": "stdout",
     "output_type": "stream",
     "text": [
      "Epoch [1/1]  Batch [100/3125]  Loss: 0.048322\n",
      "Epoch [1/1]  Batch [200/3125]  Loss: 0.049153\n",
      "Epoch [1/1]  Batch [300/3125]  Loss: 0.048909\n",
      "Epoch [1/1]  Batch [400/3125]  Loss: 0.047952\n",
      "Epoch [1/1]  Batch [500/3125]  Loss: 0.049336\n",
      "Epoch [1/1]  Batch [600/3125]  Loss: 0.048689\n",
      "Epoch [1/1]  Batch [700/3125]  Loss: 0.050626\n",
      "Epoch [1/1]  Batch [800/3125]  Loss: 0.048821\n",
      "Epoch [1/1]  Batch [900/3125]  Loss: 0.048079\n",
      "Epoch [1/1]  Batch [1000/3125]  Loss: 0.050075\n",
      "Epoch [1/1]  Batch [1100/3125]  Loss: 0.048651\n",
      "Epoch [1/1]  Batch [1200/3125]  Loss: 0.048846\n",
      "Epoch [1/1]  Batch [1300/3125]  Loss: 0.049641\n",
      "Epoch [1/1]  Batch [1400/3125]  Loss: 0.049652\n",
      "Epoch [1/1]  Batch [1500/3125]  Loss: 0.046929\n",
      "Epoch [1/1]  Batch [1600/3125]  Loss: 0.048214\n",
      "Epoch [1/1]  Batch [1700/3125]  Loss: 0.047378\n",
      "Epoch [1/1]  Batch [1800/3125]  Loss: 0.047083\n",
      "Epoch [1/1]  Batch [1900/3125]  Loss: 0.048429\n",
      "Epoch [1/1]  Batch [2000/3125]  Loss: 0.048467\n",
      "Epoch [1/1]  Batch [2100/3125]  Loss: 0.047782\n",
      "Epoch [1/1]  Batch [2200/3125]  Loss: 0.047258\n",
      "Epoch [1/1]  Batch [2300/3125]  Loss: 0.047348\n",
      "Epoch [1/1]  Batch [2400/3125]  Loss: 0.046550\n",
      "Epoch [1/1]  Batch [2500/3125]  Loss: 0.048347\n",
      "Epoch [1/1]  Batch [2600/3125]  Loss: 0.047356\n",
      "Epoch [1/1]  Batch [2700/3125]  Loss: 0.047157\n",
      "Epoch [1/1]  Batch [2800/3125]  Loss: 0.047784\n",
      "Epoch [1/1]  Batch [2900/3125]  Loss: 0.046902\n",
      "Epoch [1/1]  Batch [3000/3125]  Loss: 0.047080\n",
      "Epoch [1/1]  Batch [3100/3125]  Loss: 0.048484\n",
      "*** Epoch 1 Complete.  Avg Loss = 0.048645 ***\n"
     ]
    }
   ],
   "source": [
    "train_scm(model, dataset, **train_configs)"
   ]
  },
  {
   "cell_type": "markdown",
   "id": "2513818c",
   "metadata": {},
   "source": [
    "## Pipeline"
   ]
  },
  {
   "cell_type": "code",
   "execution_count": 31,
   "id": "0af3c45a",
   "metadata": {},
   "outputs": [],
   "source": [
    "from small_concept_model.pipeline import Pipeline\n",
    "\n",
    "model = model.to(\"cuda\")\n",
    "inverter = build_inverter(\"paraphrase_multilingual\")\n",
    "pipe = Pipeline(encoder, model, inverter)"
   ]
  },
  {
   "cell_type": "code",
   "execution_count": 39,
   "id": "00616434",
   "metadata": {},
   "outputs": [
    {
     "data": {
      "text/plain": [
       "[' she waited for her body to rest before she lifted her head and lifted her head up for her to rest . . . . she was exhausted . .',\n",
       " ' she heard the door open , and the door opened softly . the door opened , and the door opened softly . doors . doors . doors . doors .',\n",
       " \" she said , and then she turned to the door , and the door opened . '' she said , and then she turned to the door , and the\",\n",
       " \" '' oh , she said , pointing at the door . '' and then she said , `` we should be talking about the door . '' . '' ''\",\n",
       " \" '' i should say , but i mean , he is a good liar . '' '' he replied . '' and then he said , `` oh , sorry\",\n",
       " \" '' i should say , but i mean , we are talking about the goddamned thing . '' '' he replied . '' i mean , we are\",\n",
       " \" '' i should say , but i mean , we are talking about the goddamned thing . '' '' he said . '' i mean , we are\"]"
      ]
     },
     "execution_count": 39,
     "metadata": {},
     "output_type": "execute_result"
    }
   ],
   "source": [
    "texts = [\n",
    "    'lexi stretched her arms up over her head as she waited patiently for jack to return and ravish her body .',\n",
    "    'she heard the door open , and soft voices echoed down the hall toward her .',\n",
    "]\n",
    "\n",
    "pipe.generate(\n",
    "    texts,\n",
    "    n_future_steps = 5,\n",
    "    sigma_noise = 0.0,\n",
    "    temperature = 0.0,\n",
    "    max_len = 30\n",
    ")"
   ]
  }
 ],
 "metadata": {
  "kernelspec": {
   "display_name": "base",
   "language": "python",
   "name": "python3"
  },
  "language_info": {
   "codemirror_mode": {
    "name": "ipython",
    "version": 3
   },
   "file_extension": ".py",
   "mimetype": "text/x-python",
   "name": "python",
   "nbconvert_exporter": "python",
   "pygments_lexer": "ipython3",
   "version": "3.12.2"
  }
 },
 "nbformat": 4,
 "nbformat_minor": 5
}
