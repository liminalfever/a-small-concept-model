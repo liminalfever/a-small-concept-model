{
 "cells": [
  {
   "cell_type": "markdown",
   "id": "02ce1459",
   "metadata": {},
   "source": [
    "## Embedding Space Exploration"
   ]
  },
  {
   "cell_type": "code",
   "execution_count": 2,
   "id": "94506b0e",
   "metadata": {},
   "outputs": [],
   "source": [
    "import torch\n",
    "from torch.utils.data import DataLoader\n",
    "from datasets import load_dataset\n",
    "from small_concept_model.inverter import get_encoder\n",
    "from small_concept_model.data import clean_text, SCMDataset\n",
    "from small_concept_model.model import SmallConceptModel\n",
    "\n",
    "device = torch.device(\"cuda\" if torch.cuda.is_available() else \"cpu\")"
   ]
  },
  {
   "cell_type": "code",
   "execution_count": 3,
   "id": "40788f8c",
   "metadata": {},
   "outputs": [],
   "source": [
    "data = load_dataset(\"francescoortame/bookcorpus-sorted-100k16x\", split=\"train\")\n",
    "flat_texts = [t for sublist in data[\"slice\"] for t in sublist]\n",
    "flat_texts = [clean_text(t) for t in flat_texts]"
   ]
  },
  {
   "cell_type": "code",
   "execution_count": 4,
   "id": "6cd89073",
   "metadata": {},
   "outputs": [
    {
     "name": "stderr",
     "output_type": "stream",
     "text": [
      "Batches: 100%|███████████████████████████████████████████████████████████████████████████████████████████████████████████████████████████████████████████████████████████████████████████████████████████████████████████████████████████████████████████████████████████████████████████████████████████████████████████████████████████████████████████████████████████████████████████████████████████████████████████████████████████████████████████████████████████████████████████████████████████████████████████████████████████████████████████████████████████████████████████████████████████████████████████████████████████████████████████████████████████████████████████████████████████████████████████████████████████████████████████████████████████████████████████████████████████████████████████████████████████████████████████████████████████████████████████████████████████████████████████████████████████████████████████████████████████████████████████████████| 50000/50000 [10:03<00:00, 82.79it/s]\n"
     ]
    }
   ],
   "source": [
    "encoder = get_encoder(\"paraphrase-multilingual-MiniLM-L12-v2\")\n",
    "embeddings = encoder.encode(\n",
    "    flat_texts, batch_size=32, convert_to_tensor=True, show_progress_bar=True\n",
    ")"
   ]
  },
  {
   "cell_type": "code",
   "execution_count": 5,
   "id": "fac51416",
   "metadata": {},
   "outputs": [
    {
     "name": "stdout",
     "output_type": "stream",
     "text": [
      "Top 10 dims by standard deviation:\n",
      "  rank  1: dim  99 (std = 0.4659)\n",
      "  rank  2: dim 316 (std = 0.2982)\n",
      "  rank  3: dim 250 (std = 0.2815)\n",
      "  rank  4: dim 119 (std = 0.2797)\n",
      "  rank  5: dim 261 (std = 0.2796)\n",
      "  rank  6: dim 125 (std = 0.2784)\n",
      "  rank  7: dim  20 (std = 0.2776)\n",
      "  rank  8: dim  68 (std = 0.2741)\n",
      "  rank  9: dim  92 (std = 0.2715)\n",
      "  rank 10: dim 176 (std = 0.2705)\n"
     ]
    }
   ],
   "source": [
    "stds = embeddings.std(dim=0, unbiased=True)\n",
    "means = embeddings.mean(dim=0)\n",
    "\n",
    "sorted_dims = torch.argsort(stds, descending=True)\n",
    "\n",
    "print(\"Top 10 dims by standard deviation:\")\n",
    "for rank, dim_idx in enumerate(sorted_dims[:10]):\n",
    "    print(\n",
    "        f\"  rank {rank+1:>2}: dim {dim_idx.item():>3} (std = {stds[dim_idx].item():.4f})\"\n",
    "    )"
   ]
  },
  {
   "cell_type": "code",
   "execution_count": 6,
   "id": "0e13db5c",
   "metadata": {},
   "outputs": [
    {
     "data": {
      "image/png": "[encoded data removed]",
      "text/plain": [
       "<Figure size 600x400 with 2 Axes>"
      ]
     },
     "metadata": {},
     "output_type": "display_data"
    }
   ],
   "source": [
    "import matplotlib.pyplot as plt\n",
    "\n",
    "x_2d = stds.view(16, 24)\n",
    "\n",
    "arr = x_2d.cpu().numpy()\n",
    "\n",
    "plt.figure(figsize=(6, 4))\n",
    "plt.imshow(arr, cmap=\"gray_r\", aspect=\"auto\", interpolation=\"nearest\")\n",
    "plt.colorbar(label=\"Standard Deviation\")\n",
    "plt.title(\"Heatmap of Variability by Dimension\")\n",
    "plt.tight_layout()\n",
    "plt.show()"
   ]
  },
  {
   "cell_type": "code",
   "execution_count": 7,
   "id": "a1cacaa3",
   "metadata": {},
   "outputs": [],
   "source": [
    "reshaped_embeddings = embeddings.contiguous().view(100000, 16, 384)\n",
    "dataset = SCMDataset(reshaped_embeddings)"
   ]
  },
  {
   "cell_type": "markdown",
   "id": "cc952dfd",
   "metadata": {},
   "source": [
    "## SCM Definition"
   ]
  },
  {
   "cell_type": "code",
   "execution_count": 8,
   "id": "e0ca8120",
   "metadata": {},
   "outputs": [
    {
     "name": "stdout",
     "output_type": "stream",
     "text": [
      "torch.Size([384])\n",
      "torch.Size([384])\n"
     ]
    }
   ],
   "source": [
    "# print(input_batch.shape)\n",
    "print(means.shape)\n",
    "print(stds.shape)"
   ]
  },
  {
   "cell_type": "markdown",
   "id": "6db03c43",
   "metadata": {},
   "source": [
    "#### Loss Functions"
   ]
  },
  {
   "cell_type": "code",
   "execution_count": 10,
   "id": "00f8dd46",
   "metadata": {},
   "outputs": [],
   "source": [
    "import torch.nn as nn\n",
    "import torch.nn.functional as F\n",
    "\n",
    "stds = embeddings.std(dim=0, unbiased=False)\n",
    "sigma_min = stds.min().item()\n",
    "sigma_max = stds.max().item()\n",
    "\n",
    "if sigma_max - sigma_min < 1e-12:\n",
    "    weights = torch.ones_like(stds) * 1e-3\n",
    "else:\n",
    "    weights = (stds - sigma_min) / (sigma_max - sigma_min)\n",
    "    epsilon = 1e-6\n",
    "    weights = torch.clamp(weights, min=epsilon)\n",
    "\n",
    "\n",
    "class WeightedMSELoss(nn.Module):\n",
    "    def __init__(self, weight_vector: torch.Tensor):\n",
    "        super().__init__()\n",
    "        self.register_buffer(\"w\", weight_vector.view(1, -1))\n",
    "\n",
    "    def forward(self, predictions: torch.Tensor, targets: torch.Tensor) -> torch.Tensor:\n",
    "        if predictions.shape != targets.shape:\n",
    "            raise ValueError(\n",
    "                f\"predictions and targets must have same shape. \"\n",
    "                f\"Got {predictions.shape} vs {targets.shape}.\"\n",
    "            )\n",
    "        se = (predictions - targets) ** 2\n",
    "        weighted_se = se * self.w\n",
    "        return weighted_se.mean()\n",
    "\n",
    "\n",
    "class MSELossWithAvgPenalty(nn.Module):\n",
    "    def __init__(self, avg_vector: torch.Tensor):\n",
    "        super().__init__()\n",
    "        self.register_buffer(\"avg\", avg_vector)\n",
    "\n",
    "    def forward(self, predictions: torch.Tensor, targets: torch.Tensor) -> torch.Tensor:\n",
    "        if predictions.shape != targets.shape:\n",
    "            raise ValueError(\n",
    "                f\"predictions and targets must have same shape. \"\n",
    "                f\"Got {predictions.shape} vs {targets.shape}.\"\n",
    "            )\n",
    "\n",
    "        B, T, D = predictions.shape\n",
    "\n",
    "        pred_flat = predictions.reshape(-1, D)  # [B*T, 384]\n",
    "        pred_flat_norm = F.normalize(pred_flat, p=2, dim=1)  # [B*T, 384]\n",
    "        avg_expanded = self.avg.unsqueeze(0).expand(pred_flat_norm.size(0), -1)\n",
    "        cos_sims = (pred_flat_norm * avg_expanded).sum(dim=1)  # [B*T]\n",
    "        batch_avg_cos_sim = cos_sims.mean().item()\n",
    "\n",
    "        se = (predictions - targets) ** 2\n",
    "\n",
    "        loss = se.mean() + batch_avg_cos_sim\n",
    "\n",
    "        return loss\n",
    "\n",
    "\n",
    "class AntiAverageLoss(torch.nn.Module):\n",
    "    \"\"\"\n",
    "    Loss function that INCREASES when predictions get closer to the average embedding.\n",
    "    This will force the model to predict anything BUT the average.\n",
    "    If your model still collapses with this loss, there's definitely a bug.\n",
    "    \"\"\"\n",
    "\n",
    "    def __init__(self, avg_embedding, penalty_weight=1.0):\n",
    "        super().__init__()\n",
    "        self.register_buffer(\"avg_embedding\", avg_embedding)\n",
    "        self.penalty_weight = penalty_weight\n",
    "\n",
    "    def forward(self, predictions, targets):\n",
    "        # predictions: [B, T, D] or [B*T, D]\n",
    "        # targets: [B, T, D] or [B*T, D]\n",
    "\n",
    "        # Flatten if needed\n",
    "        if predictions.dim() == 3:\n",
    "            pred_flat = predictions.reshape(-1, predictions.size(-1))\n",
    "            tgt_flat = targets.reshape(-1, targets.size(-1))\n",
    "        else:\n",
    "            pred_flat = predictions\n",
    "            tgt_flat = targets\n",
    "\n",
    "        # Normalize vectors\n",
    "        pred_norm = F.normalize(pred_flat, p=2, dim=1)\n",
    "        avg_norm = F.normalize(self.avg_embedding, p=2, dim=0)\n",
    "\n",
    "        # Cosine similarity with average (higher = more similar to average)\n",
    "        cos_sim_with_avg = torch.mm(pred_norm, avg_norm.unsqueeze(1)).squeeze()\n",
    "\n",
    "        # Convert to penalty: higher similarity = higher loss\n",
    "        # Use sigmoid to bound the penalty and make it smooth\n",
    "        avg_penalty = torch.sigmoid(\n",
    "            cos_sim_with_avg * 5\n",
    "        )  # Scale factor makes it more sensitive\n",
    "\n",
    "        # Main loss: encourage predictions to match targets\n",
    "        main_loss = 1 - F.cosine_similarity(pred_flat, tgt_flat, dim=1)\n",
    "\n",
    "        # Combined loss: minimize target error + maximize distance from average\n",
    "        total_loss = main_loss.mean() + self.penalty_weight * avg_penalty.mean()\n",
    "\n",
    "        return total_loss, main_loss.mean()\n",
    "\n",
    "\n",
    "class CosineSimilarityLoss(nn.Module):\n",
    "    def __init__(self, eps: float = 1e-8):\n",
    "        super().__init__()\n",
    "        self.eps = eps\n",
    "\n",
    "    def forward(self, predictions: torch.Tensor, targets: torch.Tensor) -> torch.Tensor:\n",
    "        if predictions.shape != targets.shape:\n",
    "            raise ValueError(\n",
    "                f\"predictions and targets must have same shape. \"\n",
    "                f\"Got {predictions.shape} vs {targets.shape}.\"\n",
    "            )\n",
    "\n",
    "        cos_sim = F.cosine_similarity(predictions, targets, dim=-1, eps=self.eps)\n",
    "        loss = 1.0 - cos_sim\n",
    "        return loss.mean()\n",
    "\n",
    "\n",
    "def combined_loss(pred, target, alpha=0.7):\n",
    "    mse = F.mse_loss(pred, target)\n",
    "    cosine = 1 - F.cosine_similarity(pred, target, dim=-1).mean()\n",
    "    return alpha * mse + (1 - alpha) * cosine"
   ]
  },
  {
   "cell_type": "markdown",
   "id": "38cb23e7",
   "metadata": {},
   "source": [
    "I suspect the model is always predicting the mean vector, let's check if that's the case."
   ]
  },
  {
   "cell_type": "code",
   "execution_count": 11,
   "id": "aa8ca97b",
   "metadata": {},
   "outputs": [],
   "source": [
    "avg_embedding = embeddings.mean(dim=0)\n",
    "avg_embedding = avg_embedding / avg_embedding.norm(p=2, dim=0)\n",
    "avg_embedding = avg_embedding.to(device)"
   ]
  },
  {
   "cell_type": "code",
   "execution_count": 14,
   "id": "79bf5440",
   "metadata": {},
   "outputs": [],
   "source": [
    "batch_size = 128\n",
    "dataloader = DataLoader(dataset, batch_size, shuffle=True, drop_last=True)\n",
    "\n",
    "model = SmallConceptModel(\n",
    "    d_model=256,\n",
    "    d_embed=384,\n",
    "    nhead=4,\n",
    "    num_layers=3,\n",
    "    dim_feedforward=256 * 4,\n",
    "    dropout=0.0,\n",
    "    max_seq_len=dataset.seq_len,  # so positional encoding covers full length\n",
    "    means=means,\n",
    "    stds=stds\n",
    ")\n",
    "device = torch.device(\"cuda\" if torch.cuda.is_available() else \"cpu\")\n",
    "model.to(device)\n",
    "\n",
    "#loss_fn = WeightedMSELoss(weights.to(device))\n",
    "#loss_fn = nn.MSELoss()\n",
    "#loss_fn = CosineSimilarityLoss()\n",
    "#loss_fn = MSELossWithAvgPenalty(avg_embedding)\n",
    "loss_fn = AntiAverageLoss(avg_embedding, 0.4)"
   ]
  },
  {
   "cell_type": "code",
   "execution_count": 15,
   "id": "79dd1acd",
   "metadata": {},
   "outputs": [
    {
     "name": "stdout",
     "output_type": "stream",
     "text": [
      "(Epoch 1) 20 | Loss = 1.001412 | Main Loss = 0.604741| Pred Sim = 0.957906 | True Sim = 0.378504\n",
      "(Epoch 1) 40 | Loss = 0.976011 | Main Loss = 0.595705| Pred Sim = 0.846468 | True Sim = 0.386116\n",
      "(Epoch 1) 60 | Loss = 0.965262 | Main Loss = 0.587218| Pred Sim = 0.830216 | True Sim = 0.387383\n",
      "(Epoch 1) 80 | Loss = 0.963661 | Main Loss = 0.593783| Pred Sim = 0.794992 | True Sim = 0.389466\n",
      "(Epoch 1) 100 | Loss = 0.959772 | Main Loss = 0.606118| Pred Sim = 0.724351 | True Sim = 0.379781\n",
      "(Epoch 1) 120 | Loss = 0.955879 | Main Loss = 0.590954| Pred Sim = 0.799094 | True Sim = 0.394957\n",
      "(Epoch 1) 140 | Loss = 0.956886 | Main Loss = 0.589191| Pred Sim = 0.782839 | True Sim = 0.388227\n",
      "(Epoch 1) 160 | Loss = 0.964622 | Main Loss = 0.624056| Pred Sim = 0.697469 | True Sim = 0.386896\n",
      "(Epoch 1) 180 | Loss = 0.966187 | Main Loss = 0.646699| Pred Sim = 0.606930 | True Sim = 0.380787\n",
      "(Epoch 1) 200 | Loss = 0.956419 | Main Loss = 0.608168| Pred Sim = 0.722470 | True Sim = 0.379809\n",
      "(Epoch 1) 220 | Loss = 0.962181 | Main Loss = 0.625155| Pred Sim = 0.671497 | True Sim = 0.381437\n",
      "(Epoch 1) 240 | Loss = 0.948653 | Main Loss = 0.591758| Pred Sim = 0.740957 | True Sim = 0.394013\n",
      "(Epoch 1) 260 | Loss = 0.955140 | Main Loss = 0.646593| Pred Sim = 0.568910 | True Sim = 0.380219\n",
      "(Epoch 1) 280 | Loss = 0.949033 | Main Loss = 0.589336| Pred Sim = 0.753791 | True Sim = 0.392976\n",
      "(Epoch 1) 300 | Loss = 0.955678 | Main Loss = 0.657565| Pred Sim = 0.517474 | True Sim = 0.385802\n",
      "(Epoch 1) 320 | Loss = 0.955797 | Main Loss = 0.646434| Pred Sim = 0.570758 | True Sim = 0.386840\n",
      "(Epoch 1) 340 | Loss = 0.949533 | Main Loss = 0.601273| Pred Sim = 0.717660 | True Sim = 0.395173\n",
      "(Epoch 1) 360 | Loss = 0.953492 | Main Loss = 0.597563| Pred Sim = 0.758679 | True Sim = 0.394202\n",
      "(Epoch 1) 380 | Loss = 0.946154 | Main Loss = 0.596918| Pred Sim = 0.714349 | True Sim = 0.391861\n",
      "(Epoch 1) 400 | Loss = 0.950241 | Main Loss = 0.634945| Pred Sim = 0.596914 | True Sim = 0.397531\n",
      "(Epoch 1) 420 | Loss = 0.954327 | Main Loss = 0.638502| Pred Sim = 0.601104 | True Sim = 0.392890\n",
      "(Epoch 1) 440 | Loss = 0.940005 | Main Loss = 0.614304| Pred Sim = 0.626912 | True Sim = 0.390490\n",
      "(Epoch 1) 460 | Loss = 0.951435 | Main Loss = 0.634653| Pred Sim = 0.608232 | True Sim = 0.395746\n",
      "(Epoch 1) 480 | Loss = 0.950995 | Main Loss = 0.593320| Pred Sim = 0.758346 | True Sim = 0.395334\n",
      "(Epoch 1) 500 | Loss = 0.958011 | Main Loss = 0.638976| Pred Sim = 0.609518 | True Sim = 0.389780\n",
      "(Epoch 1) 520 | Loss = 0.949185 | Main Loss = 0.604590| Pred Sim = 0.698771 | True Sim = 0.387239\n",
      "(Epoch 1) 540 | Loss = 0.941194 | Main Loss = 0.607753| Pred Sim = 0.658192 | True Sim = 0.388625\n",
      "(Epoch 1) 560 | Loss = 0.950493 | Main Loss = 0.627021| Pred Sim = 0.625380 | True Sim = 0.386209\n",
      "(Epoch 1) 580 | Loss = 0.950690 | Main Loss = 0.605497| Pred Sim = 0.716895 | True Sim = 0.385311\n",
      "(Epoch 1) 600 | Loss = 0.945067 | Main Loss = 0.590455| Pred Sim = 0.756283 | True Sim = 0.396056\n",
      "(Epoch 1) 620 | Loss = 0.947529 | Main Loss = 0.599647| Pred Sim = 0.712793 | True Sim = 0.397804\n",
      "(Epoch 1) 640 | Loss = 0.950961 | Main Loss = 0.601870| Pred Sim = 0.718554 | True Sim = 0.389095\n",
      "(Epoch 1) 660 | Loss = 0.938506 | Main Loss = 0.597941| Pred Sim = 0.665283 | True Sim = 0.391402\n",
      "(Epoch 1) 680 | Loss = 0.946722 | Main Loss = 0.634014| Pred Sim = 0.588333 | True Sim = 0.399805\n",
      "(Epoch 1) 700 | Loss = 0.951259 | Main Loss = 0.626407| Pred Sim = 0.619909 | True Sim = 0.389899\n",
      "(Epoch 1) 720 | Loss = 0.945536 | Main Loss = 0.616756| Pred Sim = 0.653732 | True Sim = 0.388501\n",
      "(Epoch 1) 740 | Loss = 0.944853 | Main Loss = 0.591381| Pred Sim = 0.737070 | True Sim = 0.401599\n",
      "(Epoch 1) 760 | Loss = 0.943742 | Main Loss = 0.628088| Pred Sim = 0.596771 | True Sim = 0.381950\n",
      "(Epoch 1) 780 | Loss = 0.939312 | Main Loss = 0.604170| Pred Sim = 0.657576 | True Sim = 0.395901\n",
      "*** Epoch 1/2 — Loss = 0.950365 ***\n",
      "(Epoch 2) 20 | Loss = 0.949532 | Main Loss = 0.641768| Pred Sim = 0.563504 | True Sim = 0.393636\n",
      "(Epoch 2) 40 | Loss = 0.945366 | Main Loss = 0.627992| Pred Sim = 0.603508 | True Sim = 0.391753\n",
      "(Epoch 2) 60 | Loss = 0.944177 | Main Loss = 0.596984| Pred Sim = 0.708323 | True Sim = 0.383695\n",
      "(Epoch 2) 80 | Loss = 0.950442 | Main Loss = 0.641891| Pred Sim = 0.575254 | True Sim = 0.380674\n",
      "(Epoch 2) 100 | Loss = 0.944623 | Main Loss = 0.616131| Pred Sim = 0.641152 | True Sim = 0.392731\n",
      "(Epoch 2) 120 | Loss = 0.941867 | Main Loss = 0.615099| Pred Sim = 0.625771 | True Sim = 0.394622\n",
      "(Epoch 2) 140 | Loss = 0.951542 | Main Loss = 0.607419| Pred Sim = 0.710271 | True Sim = 0.387035\n",
      "(Epoch 2) 160 | Loss = 0.945082 | Main Loss = 0.614706| Pred Sim = 0.642048 | True Sim = 0.397291\n",
      "(Epoch 2) 180 | Loss = 0.946540 | Main Loss = 0.625479| Pred Sim = 0.616461 | True Sim = 0.387424\n",
      "(Epoch 2) 200 | Loss = 0.948509 | Main Loss = 0.648010| Pred Sim = 0.544708 | True Sim = 0.387961\n",
      "(Epoch 2) 220 | Loss = 0.951886 | Main Loss = 0.597738| Pred Sim = 0.757567 | True Sim = 0.394310\n",
      "(Epoch 2) 240 | Loss = 0.957994 | Main Loss = 0.637729| Pred Sim = 0.603238 | True Sim = 0.392635\n",
      "(Epoch 2) 260 | Loss = 0.940952 | Main Loss = 0.607625| Pred Sim = 0.669655 | True Sim = 0.393169\n",
      "(Epoch 2) 280 | Loss = 0.942280 | Main Loss = 0.624587| Pred Sim = 0.611063 | True Sim = 0.386544\n",
      "(Epoch 2) 300 | Loss = 0.943165 | Main Loss = 0.606264| Pred Sim = 0.672744 | True Sim = 0.391985\n",
      "(Epoch 2) 320 | Loss = 0.941915 | Main Loss = 0.608147| Pred Sim = 0.654847 | True Sim = 0.388716\n",
      "(Epoch 2) 340 | Loss = 0.942131 | Main Loss = 0.619169| Pred Sim = 0.618980 | True Sim = 0.390040\n",
      "(Epoch 2) 360 | Loss = 0.945740 | Main Loss = 0.624370| Pred Sim = 0.606442 | True Sim = 0.384053\n",
      "(Epoch 2) 380 | Loss = 0.943311 | Main Loss = 0.644289| Pred Sim = 0.526759 | True Sim = 0.380015\n",
      "(Epoch 2) 400 | Loss = 0.944402 | Main Loss = 0.591155| Pred Sim = 0.742187 | True Sim = 0.393449\n",
      "(Epoch 2) 420 | Loss = 0.932247 | Main Loss = 0.625252| Pred Sim = 0.564943 | True Sim = 0.390586\n",
      "(Epoch 2) 440 | Loss = 0.951743 | Main Loss = 0.627191| Pred Sim = 0.629244 | True Sim = 0.399430\n",
      "(Epoch 2) 460 | Loss = 0.934208 | Main Loss = 0.628378| Pred Sim = 0.538482 | True Sim = 0.387708\n",
      "(Epoch 2) 480 | Loss = 0.944532 | Main Loss = 0.602250| Pred Sim = 0.695584 | True Sim = 0.389184\n",
      "(Epoch 2) 500 | Loss = 0.953829 | Main Loss = 0.632497| Pred Sim = 0.624086 | True Sim = 0.403222\n",
      "(Epoch 2) 520 | Loss = 0.956312 | Main Loss = 0.653166| Pred Sim = 0.520806 | True Sim = 0.380115\n",
      "(Epoch 2) 540 | Loss = 0.943369 | Main Loss = 0.605283| Pred Sim = 0.679320 | True Sim = 0.389505\n",
      "(Epoch 2) 560 | Loss = 0.942752 | Main Loss = 0.612617| Pred Sim = 0.639184 | True Sim = 0.378990\n",
      "(Epoch 2) 580 | Loss = 0.944273 | Main Loss = 0.605819| Pred Sim = 0.687778 | True Sim = 0.397467\n",
      "(Epoch 2) 600 | Loss = 0.942825 | Main Loss = 0.605831| Pred Sim = 0.657923 | True Sim = 0.392974\n",
      "(Epoch 2) 620 | Loss = 0.953987 | Main Loss = 0.624046| Pred Sim = 0.642445 | True Sim = 0.388220\n",
      "(Epoch 2) 640 | Loss = 0.944043 | Main Loss = 0.614685| Pred Sim = 0.637519 | True Sim = 0.395382\n",
      "(Epoch 2) 660 | Loss = 0.947213 | Main Loss = 0.612989| Pred Sim = 0.655612 | True Sim = 0.395392\n",
      "(Epoch 2) 680 | Loss = 0.945000 | Main Loss = 0.618163| Pred Sim = 0.642829 | True Sim = 0.394321\n",
      "(Epoch 2) 700 | Loss = 0.948144 | Main Loss = 0.638377| Pred Sim = 0.579900 | True Sim = 0.389294\n",
      "(Epoch 2) 720 | Loss = 0.944958 | Main Loss = 0.621258| Pred Sim = 0.629636 | True Sim = 0.380772\n",
      "(Epoch 2) 740 | Loss = 0.943991 | Main Loss = 0.617966| Pred Sim = 0.623508 | True Sim = 0.393292\n",
      "(Epoch 2) 760 | Loss = 0.937498 | Main Loss = 0.619890| Pred Sim = 0.591743 | True Sim = 0.393742\n",
      "(Epoch 2) 780 | Loss = 0.946174 | Main Loss = 0.643518| Pred Sim = 0.548629 | True Sim = 0.386910\n",
      "*** Epoch 2/2 — Loss = 0.947696 ***\n"
     ]
    }
   ],
   "source": [
    "num_epochs = 2\n",
    "optimizer = torch.optim.Adam(model.parameters(), lr=1e-3, weight_decay=1e-5)\n",
    "\n",
    "model.train()\n",
    "for epoch in range(num_epochs):\n",
    "    for idx, (input_batch, target_batch) in enumerate(dataloader):\n",
    "        model.train()\n",
    "        # input_batch, target_batch: [B, T, D]\n",
    "        input_batch = input_batch.to(device)  # [B, T, 384]\n",
    "        target_batch = target_batch.to(device)  # [B, T, 384]\n",
    "\n",
    "        noise_scale = 0.01\n",
    "\n",
    "        noise = torch.randn_like(input_batch) * noise_scale\n",
    "        input_batch = input_batch + noise\n",
    "\n",
    "        optimizer.zero_grad()\n",
    "        preds = model(input_batch)  # preds.shape = [B, T, 384]\n",
    "        \n",
    "        #loss = combined_loss(preds, target_batch, 0.0)\n",
    "        loss, main_loss = loss_fn(\n",
    "           preds, target_batch\n",
    "        )  # compare preds[:, t, :] to target[:, t, :]\n",
    "        loss.backward()\n",
    "        optimizer.step()\n",
    "\n",
    "        with torch.no_grad():\n",
    "            B, T, D = preds.shape\n",
    "\n",
    "            pred_flat = preds.reshape(-1, D)  # [B*T, 384]\n",
    "            pred_flat_norm = F.normalize(pred_flat, p=2, dim=1)  # [B*T, 384]\n",
    "            avg_expanded = avg_embedding.unsqueeze(0).expand(pred_flat_norm.size(0), -1)\n",
    "            cos_sims = (pred_flat_norm * avg_expanded).sum(dim=1)  # [B*T]\n",
    "            batch_avg_cos_sim = cos_sims.mean().item()\n",
    "\n",
    "            tgt_flat = target_batch.reshape(-1, D)  # [B*T, 384]\n",
    "            tgt_flat_norm = F.normalize(tgt_flat, p=2, dim=1)\n",
    "            cos_sims = (tgt_flat_norm * avg_expanded).sum(dim=1)  # [B*T]\n",
    "            tgt_batch_avg_cos_sim = cos_sims.mean().item()\n",
    "\n",
    "        if (idx + 1) % 20 == 0:\n",
    "            print(\n",
    "                f\"(Epoch {epoch+1}) {idx+1} | Loss = {loss.item():.6f} | Main Loss = {main_loss.item():.6f}| Pred Sim = {batch_avg_cos_sim:.6f} | True Sim = {tgt_batch_avg_cos_sim:.6f}\"\n",
    "                #f\"(Epoch {epoch+1}) {idx+1} | Loss = {loss.item():.6f} | Pred Sim = {batch_avg_cos_sim:.6f} | True Sim = {tgt_batch_avg_cos_sim:.6f}\"\n",
    "            )\n",
    "    print(f\"*** Epoch {epoch+1}/{num_epochs} — Loss = {loss.item():.6f} ***\")"
   ]
  },
  {
   "cell_type": "code",
   "execution_count": 16,
   "id": "666261bb",
   "metadata": {},
   "outputs": [],
   "source": [
    "torch.save(model.state_dict(), \"saved_models/scm/scm_test.pth\")"
   ]
  },
  {
   "cell_type": "markdown",
   "id": "735c6b1f",
   "metadata": {},
   "source": [
    "---"
   ]
  }
 ],
 "metadata": {
  "kernelspec": {
   "display_name": "base",
   "language": "python",
   "name": "python3"
  },
  "language_info": {
   "codemirror_mode": {
    "name": "ipython",
    "version": 3
   },
   "file_extension": ".py",
   "mimetype": "text/x-python",
   "name": "python",
   "nbconvert_exporter": "python",
   "pygments_lexer": "ipython3",
   "version": "3.12.2"
  }
 },
 "nbformat": 4,
 "nbformat_minor": 5
}
