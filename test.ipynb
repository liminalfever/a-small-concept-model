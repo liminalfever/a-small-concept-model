{
 "cells": [
  {
   "cell_type": "code",
   "execution_count": 14,
   "id": "d170b1fb",
   "metadata": {},
   "outputs": [],
   "source": [
    "import torch\n",
    "from torch.utils.data import DataLoader\n",
    "from sentence_transformers import SentenceTransformer\n",
    "from small_concept_model.model import SmallConceptModel\n",
    "from small_concept_model.inverter import PreNet, Inverter, get_encoder, get_gpt2_decoder\n",
    "from small_concept_model.train import train_scm, train_inverter\n",
    "from small_concept_model.data import get_bookcorpus_scm, get_bookcorpus_inverter\n",
    "from small_concept_model.auto import build_scm, build_inverter\n",
    "\n",
    "device = torch.device(\"cuda\" if torch.cuda.is_available() else \"cpu\")"
   ]
  },
  {
   "cell_type": "code",
   "execution_count": 9,
   "id": "b4deb7e3",
   "metadata": {},
   "outputs": [],
   "source": [
    "scm_configs = {\n",
    "    \"d_model\": 512,\n",
    "    \"d_embed\": 384,\n",
    "    \"d_ff\": 4 * 512,\n",
    "    \"n_heads\": 4,\n",
    "    \"n_layers\": 3,\n",
    "    \"dropout\": 0.0,\n",
    "    \"max_seq_len\": 128\n",
    "}\n",
    "\n",
    "prenet_configs = {\n",
    "    \"input_dim\": 384,\n",
    "    \"output_dim\": 768,\n",
    "    \"rank\": 128,\n",
    "    \"prefix_len\": 20,\n",
    "}\n",
    "\n",
    "train_configs = {\n",
    "    \"lr\": 1e-3,\n",
    "    \"weight_decay\": 1e-3,\n",
    "    \"batch_size\": 32,\n",
    "    \"num_epochs\": 1\n",
    "}"
   ]
  },
  {
   "cell_type": "code",
   "execution_count": 5,
   "id": "d64956b2",
   "metadata": {},
   "outputs": [
    {
     "name": "stderr",
     "output_type": "stream",
     "text": [
      "The new embeddings will be initialized from a multivariate normal distribution that has old embeddings' mean and covariance. As described in this article: https://nlp.stanford.edu/~johnhew/vocab-expansion.html. To disable this, use `mean_resizing=False`\n"
     ]
    }
   ],
   "source": [
    "encoder = get_encoder(\"paraphrase-multilingual-MiniLM-L12-v2\")\n",
    "prenet = PreNet(**prenet_configs).to(device)\n",
    "decoder, tokenizer = get_gpt2_decoder()"
   ]
  },
  {
   "cell_type": "code",
   "execution_count": 6,
   "id": "4df5336b",
   "metadata": {},
   "outputs": [
    {
     "name": "stderr",
     "output_type": "stream",
     "text": [
      "Batches: 100%|███████████████████████████████████████████████████████████████████████████████████████████████████████████████████████████████████████████████████████████████████████████████████████████████████████████████████████████████████████████████████████████████████████████████████████████████████████████████████████████████████████████████████████████████████████████████████████████████████████████████████████████████████████████████████████████████████████████████████████████████████████████████████████████████████████████████████████████████████████████████████████████████████████████████████████████████████████████████████████████████████████████████████████████████████████████████████████████████████████████████████████████████████████████████████████████████████████████████████████████████████████████████████████████████████████████████████████████████████████████████████████████████████████████████████████████████████████████████████████| 938/938 [00:12<00:00, 75.81it/s]\n"
     ]
    }
   ],
   "source": [
    "data = get_bookcorpus_inverter(\n",
    "    encoder, tokenizer, max_target_len=64, embed_batch_size=32, sample=0.03, clean=True\n",
    ")"
   ]
  },
  {
   "cell_type": "code",
   "execution_count": 12,
   "id": "27fbcbcd",
   "metadata": {},
   "outputs": [
    {
     "name": "stderr",
     "output_type": "stream",
     "text": [
      "Epoch 1 [Train]: 100%|███████████████████████████████████████████████████████████████████████████████████████████████████████████████████████████████████████████████████████████████████████████████████████████████████████████████████████████████████████████████████████████████████████████████████████████████████████████████████████████████████████████████████████████████████████████████████████████████████████████████████████████████████████████████████████████████████████████████████████████████████████████████████████████████████████████████████████████████████████████████████████████████████████████████████████████████████████████████████████████████████████████████████████████████████████████████████████████████████████████████████████████████████████████████████████████████████████████████████████████████████████████████████████████████████████████████████████████████████████████████████████████████████████████████████████████████████████████████| 938/938 [06:55<00:00,  2.26it/s]"
     ]
    },
    {
     "name": "stdout",
     "output_type": "stream",
     "text": [
      "*** Epoch 0 Complete.  Avg Loss = 3.082486 ***\n"
     ]
    },
    {
     "name": "stderr",
     "output_type": "stream",
     "text": [
      "\n"
     ]
    }
   ],
   "source": [
    "train_inverter(prenet, decoder, tokenizer, data, **train_configs)"
   ]
  },
  {
   "cell_type": "code",
   "execution_count": 20,
   "id": "93f2fd07",
   "metadata": {},
   "outputs": [
    {
     "data": {
      "text/plain": [
       "' are you alright? is there anything you are doing? is there anything you are doing wrong? is there something you are doing right now? is there'"
      ]
     },
     "execution_count": 20,
     "metadata": {},
     "output_type": "execute_result"
    }
   ],
   "source": [
    "inverter = Inverter(prenet, decoder, tokenizer)\n",
    "\n",
    "sample_text = \"Hello, how are you doing?\"\n",
    "vec = encoder.encode(sample_text, convert_to_tensor=True)\n",
    "inverter.invert(vec, max_len=30, temperature=0.8)"
   ]
  },
  {
   "cell_type": "markdown",
   "id": "347d76eb",
   "metadata": {},
   "source": [
    "---"
   ]
  },
  {
   "cell_type": "code",
   "execution_count": 4,
   "id": "babbecce",
   "metadata": {},
   "outputs": [
    {
     "name": "stderr",
     "output_type": "stream",
     "text": [
      "Batches: 100%|███████████████████████████████████████████████████████████████████████████████████████████████████████████████████████████████████████████████████████████████████████████████████████████████████████████████████████████████████████████████████████████████████████████████████████████████████████████████████████████████████████████████████████████████████████████████████████████████████████████████████████████████████████████████████████████████████████████████████████████████████████████████████████████████████████████████████████████████████████████████████████████████████████████████████████████████████████████████████████████████████████████████████████████████████████████████████████████████████████████████████████████████████████████████████████████████████████████████████████████████████████████████████████████████████████████████████████████████████████████████████████████████████████████████████████████████████████████████████| 50000/50000 [10:46<00:00, 77.31it/s]\n"
     ]
    }
   ],
   "source": [
    "encoder = SentenceTransformer(\"paraphrase-multilingual-MiniLM-L12-v2\", device=\"cuda\")\n",
    "dataset = get_bookcorpus_scm(encoder, 32)"
   ]
  },
  {
   "cell_type": "markdown",
   "id": "676e1207",
   "metadata": {},
   "source": [
    "Train the model."
   ]
  },
  {
   "cell_type": "code",
   "execution_count": 1,
   "id": "6780b0b1",
   "metadata": {},
   "outputs": [
    {
     "name": "stderr",
     "output_type": "stream",
     "text": [
      "/anaconda/lib/python3.12/site-packages/tqdm/auto.py:21: TqdmWarning: IProgress not found. Please update jupyter and ipywidgets. See https://ipywidgets.readthedocs.io/en/stable/user_install.html\n",
      "  from .autonotebook import tqdm as notebook_tqdm\n"
     ]
    }
   ],
   "source": [
    "from datasets import load_dataset\n",
    "\n",
    "data = load_dataset(\"francescoortame/bookcorpus-rand-1M\", split=\"train\")"
   ]
  },
  {
   "cell_type": "code",
   "execution_count": 5,
   "id": "daa9dac5",
   "metadata": {},
   "outputs": [],
   "source": [
    "texts = data[\"text\"]"
   ]
  },
  {
   "cell_type": "code",
   "execution_count": 12,
   "id": "78cb59ea",
   "metadata": {},
   "outputs": [
    {
     "name": "stderr",
     "output_type": "stream",
     "text": [
      "100%|████████████████████████████████████████████████████████████████████████████████████████████████████████████████████████████████████████████████████████████████████████████████████████████████████████████████████████████████████████████████████████████████████████████████████████████████████████████████████████████████████████████████████████████████████████████████████████████████████████████████████████████████████████████████████████████████████████████████████████████████████████████████████████████████████████████████████████████████████████████████████████████████████████████████████████████████████████████████████████████████████████████████████████████████████████████████████████████████████████████████████████████████████████████████████████████████████████████████████████████████████████████████████████████████████████████████████████████████████████████████████████████████████████████████████████████████████████████████████| 1000000/1000000 [00:07<00:00, 138347.40it/s]\n"
     ]
    }
   ],
   "source": [
    "from tqdm import tqdm\n",
    "from small_concept_model.utils import clean_text\n",
    "\n",
    "clean_texts = []\n",
    "\n",
    "for t in tqdm(texts, total=len(texts)):\n",
    "    clean_texts.append(clean_text(t))"
   ]
  },
  {
   "cell_type": "code",
   "execution_count": null,
   "id": "2ba1b774",
   "metadata": {},
   "outputs": [
    {
     "name": "stdout",
     "output_type": "stream",
     "text": [
      "\"Professor,\" evans said, \"i have to go.\"\n",
      "It made me uncomfortable.\n",
      "Rex: short, bald, pale skin.\n",
      "He'd called the glamour back in place.\n",
      "Things were coming to a head, and we both knew it, although I am still reeling about how vlad got the jump on me.\n",
      "It was the year of the accords, and all of downworld was abuzz about them and valentine's probable plans for disrupting them.\n",
      "Hand it over.\n",
      "\"More horrible than you can even imagine.\"\n",
      "He swings me around like i'm lighter than a feather and I laugh as my world spins.\n",
      "I caught it without taking my eyes off his face.\n",
      "Get up!\n",
      "That made her feel a little better.\n",
      "She buzzed the intercom and asked the receptionist to step inside.\n",
      "You knew it was coming didnt you?\n",
      "Are you staying or coming with us?\n",
      "Neil let that pass with just a nod.\n",
      "Without a word, the bartender took my mostly-empty mug and refilled it.\n",
      "My arm flew out straight, palm up toward him and I cried, \"don't!\"\n",
      "He grabbed my shoulders and forced me to face him.\n",
      "She has just awakened, and all she can think right now is to fight as happened to me.\n",
      "Me being here with ty didn't seem to bother colt and I appreciated that a bunch, considering everyone else thought I was obsessed.\n",
      "He starts crying.\n",
      "Give in to the voice.\n",
      "\"Are you saying a killer instinct is a necessary preliminary to consciousness?\"\n",
      "It was kind of a boy movie.\n",
      "This activity had been a mere excuse to attack him.\n",
      "Chapter 8 knapsack the room was dark, but, as always, kendra could see.\n",
      "I would consider her a risk to herself, and anyone coming in contact with her.\n",
      "'not for several months,' I replied.\n"
     ]
    }
   ],
   "source": [
    "\n",
    "\n",
    "clean_t = [clean_text(t) for t in sample_texts]\n",
    "\n",
    "for t in clean_t:\n",
    "    print(t)"
   ]
  },
  {
   "cell_type": "code",
   "execution_count": 36,
   "id": "b18c4a2b",
   "metadata": {},
   "outputs": [],
   "source": [
    "from datasets import load_dataset\n",
    "\n",
    "data = load_dataset(\"francescoortame/bookcorpus-sorted-100k16x\", split=\"train\")"
   ]
  },
  {
   "cell_type": "code",
   "execution_count": 35,
   "id": "6815cb98",
   "metadata": {},
   "outputs": [
    {
     "name": "stdout",
     "output_type": "stream",
     "text": [
      "Epoch [1/1]  Batch [100/3125]  Loss: 0.048322\n",
      "Epoch [1/1]  Batch [200/3125]  Loss: 0.049153\n",
      "Epoch [1/1]  Batch [300/3125]  Loss: 0.048909\n",
      "Epoch [1/1]  Batch [400/3125]  Loss: 0.047952\n",
      "Epoch [1/1]  Batch [500/3125]  Loss: 0.049336\n",
      "Epoch [1/1]  Batch [600/3125]  Loss: 0.048689\n",
      "Epoch [1/1]  Batch [700/3125]  Loss: 0.050626\n",
      "Epoch [1/1]  Batch [800/3125]  Loss: 0.048821\n",
      "Epoch [1/1]  Batch [900/3125]  Loss: 0.048079\n",
      "Epoch [1/1]  Batch [1000/3125]  Loss: 0.050075\n",
      "Epoch [1/1]  Batch [1100/3125]  Loss: 0.048651\n",
      "Epoch [1/1]  Batch [1200/3125]  Loss: 0.048846\n",
      "Epoch [1/1]  Batch [1300/3125]  Loss: 0.049641\n",
      "Epoch [1/1]  Batch [1400/3125]  Loss: 0.049652\n",
      "Epoch [1/1]  Batch [1500/3125]  Loss: 0.046929\n",
      "Epoch [1/1]  Batch [1600/3125]  Loss: 0.048214\n",
      "Epoch [1/1]  Batch [1700/3125]  Loss: 0.047378\n",
      "Epoch [1/1]  Batch [1800/3125]  Loss: 0.047083\n",
      "Epoch [1/1]  Batch [1900/3125]  Loss: 0.048429\n",
      "Epoch [1/1]  Batch [2000/3125]  Loss: 0.048467\n",
      "Epoch [1/1]  Batch [2100/3125]  Loss: 0.047782\n",
      "Epoch [1/1]  Batch [2200/3125]  Loss: 0.047258\n",
      "Epoch [1/1]  Batch [2300/3125]  Loss: 0.047348\n",
      "Epoch [1/1]  Batch [2400/3125]  Loss: 0.046550\n",
      "Epoch [1/1]  Batch [2500/3125]  Loss: 0.048347\n",
      "Epoch [1/1]  Batch [2600/3125]  Loss: 0.047356\n",
      "Epoch [1/1]  Batch [2700/3125]  Loss: 0.047157\n",
      "Epoch [1/1]  Batch [2800/3125]  Loss: 0.047784\n",
      "Epoch [1/1]  Batch [2900/3125]  Loss: 0.046902\n",
      "Epoch [1/1]  Batch [3000/3125]  Loss: 0.047080\n",
      "Epoch [1/1]  Batch [3100/3125]  Loss: 0.048484\n",
      "*** Epoch 1 Complete.  Avg Loss = 0.048645 ***\n"
     ]
    }
   ],
   "source": [
    "train_scm(model, dataset, **train_configs)"
   ]
  },
  {
   "cell_type": "markdown",
   "id": "2513818c",
   "metadata": {},
   "source": [
    "## Pipeline"
   ]
  },
  {
   "cell_type": "code",
   "execution_count": 31,
   "id": "0af3c45a",
   "metadata": {},
   "outputs": [],
   "source": [
    "from small_concept_model.pipeline import Pipeline\n",
    "\n",
    "model = model.to(\"cuda\")\n",
    "inverter = build_inverter(\"paraphrase_multilingual\")\n",
    "pipe = Pipeline(encoder, model, inverter)"
   ]
  },
  {
   "cell_type": "code",
   "execution_count": 39,
   "id": "00616434",
   "metadata": {},
   "outputs": [
    {
     "data": {
      "text/plain": [
       "[' she waited for her body to rest before she lifted her head and lifted her head up for her to rest . . . . she was exhausted . .',\n",
       " ' she heard the door open , and the door opened softly . the door opened , and the door opened softly . doors . doors . doors . doors .',\n",
       " \" she said , and then she turned to the door , and the door opened . '' she said , and then she turned to the door , and the\",\n",
       " \" '' oh , she said , pointing at the door . '' and then she said , `` we should be talking about the door . '' . '' ''\",\n",
       " \" '' i should say , but i mean , he is a good liar . '' '' he replied . '' and then he said , `` oh , sorry\",\n",
       " \" '' i should say , but i mean , we are talking about the goddamned thing . '' '' he replied . '' i mean , we are\",\n",
       " \" '' i should say , but i mean , we are talking about the goddamned thing . '' '' he said . '' i mean , we are\"]"
      ]
     },
     "execution_count": 39,
     "metadata": {},
     "output_type": "execute_result"
    }
   ],
   "source": [
    "texts = [\n",
    "    'lexi stretched her arms up over her head as she waited patiently for jack to return and ravish her body .',\n",
    "    'she heard the door open , and soft voices echoed down the hall toward her .',\n",
    "]\n",
    "\n",
    "pipe.generate(\n",
    "    texts,\n",
    "    n_future_steps = 5,\n",
    "    sigma_noise = 0.0,\n",
    "    temperature = 0.0,\n",
    "    max_len = 30\n",
    ")"
   ]
  }
 ],
 "metadata": {
  "kernelspec": {
   "display_name": "base",
   "language": "python",
   "name": "python3"
  },
  "language_info": {
   "codemirror_mode": {
    "name": "ipython",
    "version": 3
   },
   "file_extension": ".py",
   "mimetype": "text/x-python",
   "name": "python",
   "nbconvert_exporter": "python",
   "pygments_lexer": "ipython3",
   "version": "3.12.2"
  }
 },
 "nbformat": 4,
 "nbformat_minor": 5
}
