{
 "cells": [
  {
   "cell_type": "code",
   "execution_count": null,
   "id": "b9b4d545",
   "metadata": {},
   "outputs": [],
   "source": [
    "import torch\n",
    "import torch.nn as nn\n",
    "import torch.nn.functional as F\n",
    "from torch.utils.data import DataLoader\n",
    "from datasets import load_dataset\n",
    "from sentence_transformers import SentenceTransformer\n",
    "from small_concept_model.utils import clean_text\n",
    "from small_concept_model.auto import build_inverter\n",
    "from small_concept_model.baseline import LSTMConceptModel, LSTMDataset\n",
    "\n",
    "device = torch.device(\"cuda\" if torch.cuda.is_available() else \"cpu\")"
   ]
  },
  {
   "cell_type": "code",
   "execution_count": null,
   "id": "55502d5e",
   "metadata": {},
   "outputs": [],
   "source": [
    "encoder = SentenceTransformer(\"paraphrase-multilingual-MiniLM-L12-v2\")\n",
    "\n",
    "data = load_dataset(\"francescoortame/bookcorpus-sorted-100k16x\", split=\"train\")\n",
    "flat_texts = [t for sublist in data[\"slice\"] for t in sublist]\n",
    "\n",
    "flat_texts = [clean_text(t) for t in flat_texts]\n",
    "\n",
    "n_seqs = len(data)\n",
    "seq_len = len(data[\"slice\"][0])\n",
    "d_embed = encoder.get_sentence_embedding_dimension()\n",
    "\n",
    "embeddings = encoder.encode(\n",
    "    flat_texts,\n",
    "    batch_size=128,\n",
    "    show_progress_bar=True,\n",
    "    convert_to_tensor=True,\n",
    ")\n",
    "\n",
    "all_embeds = embeddings.contiguous().view(n_seqs, seq_len, d_embed)"
   ]
  },
  {
   "cell_type": "code",
   "execution_count": null,
   "id": "6070bb8a",
   "metadata": {},
   "outputs": [],
   "source": [
    "model = LSTMConceptModel(\n",
    "    input_dim=384,\n",
    "    hidden_dim=512,\n",
    "    num_layers=2,\n",
    "    dropout=0.1\n",
    ").to(device)\n",
    "\n",
    "model.load_state_dict(torch.load(\"saved_models/lstm/lstm_100k.pth\", map_location=device))\n",
    "\n",
    "criterion = nn.MSELoss()\n",
    "optimizer = torch.optim.Adam(model.parameters(), lr=1e-3)\n",
    "\n",
    "scm_dataset = LSTMDataset(all_embeds)\n",
    "dataloader = DataLoader(scm_dataset, batch_size=32, shuffle=True)"
   ]
  },
  {
   "cell_type": "markdown",
   "id": "a233e1f1",
   "metadata": {},
   "source": [
    "Train the LSTM."
   ]
  },
  {
   "cell_type": "code",
   "execution_count": null,
   "id": "a86f780a",
   "metadata": {},
   "outputs": [],
   "source": [
    "NUM_EPOCHS = 5\n",
    "COSINE_LOSS = False\n",
    "PRINT_COSINE = False\n",
    "\n",
    "target = torch.ones([32]).to(device)\n",
    "\n",
    "model.train()\n",
    "for epoch in range(1, NUM_EPOCHS + 1):\n",
    "    epoch_loss = 0.0\n",
    "    for i, (batch_seq, batch_target) in enumerate(dataloader):\n",
    "        optimizer.zero_grad()\n",
    "\n",
    "        batch_seq = batch_seq.to(device)\n",
    "        batch_target = batch_target.to(device)\n",
    "\n",
    "        pred = model(batch_seq)\n",
    "        loss = criterion(pred, batch_target)\n",
    "\n",
    "        cos_sim = F.cosine_similarity(pred, batch_target).mean()\n",
    "\n",
    "        if COSINE_LOSS:\n",
    "            loss = 1 - cos_sim\n",
    "\n",
    "        loss.backward()\n",
    "        torch.nn.utils.clip_grad_norm_(model.parameters(), max_norm=1.0)\n",
    "        optimizer.step()\n",
    "\n",
    "        epoch_loss += loss.item() * batch_seq.size(0)\n",
    "\n",
    "        if PRINT_COSINE:\n",
    "            if (i + 1) % 100 == 0:\n",
    "                print(f\"Cos Sim: {cos_sim}\")\n",
    "\n",
    "    avg_loss = epoch_loss / len(all_embeds)\n",
    "    print(f\"Epoch [{epoch}/{NUM_EPOCHS}] - Loss: {avg_loss:.6f}\")"
   ]
  },
  {
   "cell_type": "code",
   "execution_count": null,
   "id": "fcf2b375",
   "metadata": {},
   "outputs": [],
   "source": [
    "torch.save(model.state_dict(), \"saved_models/lstm/lstm_100k.pth\")"
   ]
  },
  {
   "cell_type": "markdown",
   "id": "5d6e5781",
   "metadata": {},
   "source": [
    "### Inference"
   ]
  },
  {
   "cell_type": "code",
   "execution_count": null,
   "id": "91fa10f6",
   "metadata": {},
   "outputs": [],
   "source": [
    "inverter = build_inverter(\"paraphrase_multilingual\")"
   ]
  },
  {
   "cell_type": "code",
   "execution_count": null,
   "id": "45e9b055",
   "metadata": {},
   "outputs": [],
   "source": [
    "GEN_STEPS: int = 20\n",
    "COSINE_THRESHOLD: float = 0.9\n",
    "\n",
    "texts = [\n",
    "    \"He was a researcher at the time, working on machine learning.\",\n",
    "    \"However, he was not satisfied with his job.\",\n",
    "]\n",
    "\n",
    "\n",
    "for t in texts:\n",
    "    x = encoder.encode(t, convert_to_tensor=True)\n",
    "    print(inverter.invert(x, 30, 0.0, 1.1))\n",
    "\n",
    "encoded_texts = encoder.encode(texts, convert_to_tensor=True).to(device)\n",
    "\n",
    "for _ in range(GEN_STEPS):\n",
    "    print(\"---\")\n",
    "    res = model(encoded_texts)\n",
    "    cos_sim = F.cosine_similarity(res, encoded_texts[-1], dim=0)\n",
    "    print(cos_sim.item())\n",
    "    if cos_sim.mean().item() > COSINE_THRESHOLD:\n",
    "        break\n",
    "    encoded_texts = torch.cat([encoded_texts, res.unsqueeze(0)], dim=0)\n",
    "    print(inverter.invert(res, 30, 0.0, 1.1))\n"
   ]
  }
 ],
 "metadata": {
  "kernelspec": {
   "display_name": "base",
   "language": "python",
   "name": "python3"
  },
  "language_info": {
   "codemirror_mode": {
    "name": "ipython",
    "version": 3
   },
   "file_extension": ".py",
   "mimetype": "text/x-python",
   "name": "python",
   "nbconvert_exporter": "python",
   "pygments_lexer": "ipython3",
   "version": "3.12.2"
  }
 },
 "nbformat": 4,
 "nbformat_minor": 5
}
